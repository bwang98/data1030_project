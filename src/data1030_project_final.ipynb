{
 "cells": [
  {
   "cell_type": "markdown",
   "id": "40c6e329",
   "metadata": {},
   "source": [
    "## Package Importing"
   ]
  },
  {
   "cell_type": "code",
   "execution_count": 286,
   "id": "cee44ee6",
   "metadata": {},
   "outputs": [],
   "source": [
    "import numpy as np\n",
    "import pandas as pd\n",
    "import random\n",
    "from pandas.api.types import CategoricalDtype\n",
    "import matplotlib.pyplot as plt\n",
    "import seaborn as sns\n",
    "import warnings\n",
    "warnings.filterwarnings(\"ignore\")\n",
    "from sklearn.compose import ColumnTransformer\n",
    "from sklearn.pipeline import Pipeline\n",
    "from sklearn.preprocessing import StandardScaler, OneHotEncoder, OrdinalEncoder, MinMaxScaler, FunctionTransformer\n",
    "from sklearn.model_selection import KFold, StratifiedKFold, GroupShuffleSplit, GroupKFold, train_test_split, GridSearchCV\n",
    "from sklearn.metrics import mean_squared_error, make_scorer\n",
    "\n",
    "\n",
    "plt.rcParams['figure.figsize'] = (12, 9)\n",
    "plt.rcParams['font.size'] = 16"
   ]
  },
  {
   "cell_type": "markdown",
   "id": "25d03718",
   "metadata": {},
   "source": [
    "## Importing DataFrame"
   ]
  },
  {
   "cell_type": "code",
   "execution_count": 253,
   "id": "b1700250",
   "metadata": {},
   "outputs": [],
   "source": [
    "df = pd.read_csv(\"../data/cook_county_housing.csv\", index_col='Unnamed: 0')"
   ]
  },
  {
   "cell_type": "markdown",
   "id": "b7c8081b",
   "metadata": {},
   "source": [
    "#### Replacing space with empty"
   ]
  },
  {
   "cell_type": "code",
   "execution_count": 254,
   "id": "aa8e677d",
   "metadata": {
    "scrolled": true
   },
   "outputs": [
    {
     "data": {
      "text/plain": [
       "Index(['PIN', 'PropertyClass', 'NeighborhoodCode', 'LandSquareFeet',\n",
       "       'TownCode', 'Apartments', 'WallMaterial', 'RoofMaterial', 'Basement',\n",
       "       'BasementFinish', 'CentralHeating', 'OtherHeating', 'CentralAir',\n",
       "       'Fireplaces', 'AtticType', 'AtticFinish', 'DesignPlan',\n",
       "       'CathedralCeiling', 'ConstructionQuality', 'SiteDesirability',\n",
       "       'Garage1Size', 'Garage1Material', 'Garage1Attachment', 'Garage1Area',\n",
       "       'Garage2Size', 'Garage2Material', 'Garage2Attachment', 'Garage2Area',\n",
       "       'Porch', 'OtherImprovements', 'BuildingSquareFeet', 'RepairCondition',\n",
       "       'MultiCode', 'NumberofCommercialUnits', 'Estimate(Land)',\n",
       "       'Estimate(Building)', 'DeedNo.', 'SalePrice', 'Longitude', 'Latitude',\n",
       "       'CensusTract', 'MultiPropertyIndicator', 'ModelingGroup', 'Age', 'Use',\n",
       "       'O'HareNoise', 'Floodplain', 'RoadProximity', 'SaleYear', 'SaleQuarter',\n",
       "       'SaleHalf-Year', 'SaleQuarterofYear', 'SaleMonthofYear',\n",
       "       'SaleHalfofYear', 'MostRecentSale', 'AgeDecade', 'PureMarketFilter',\n",
       "       'GarageIndicator', 'NeigborhoodCode(mapping)', 'TownandNeighborhood',\n",
       "       'Description', 'LotSize'],\n",
       "      dtype='object')"
      ]
     },
     "execution_count": 254,
     "metadata": {},
     "output_type": "execute_result"
    }
   ],
   "source": [
    "# replacing the space with the \"\" in all the columns\n",
    "df.columns = df.columns.str.replace(\" \", \"\")\n",
    "df.columns"
   ]
  },
  {
   "cell_type": "code",
   "execution_count": null,
   "id": "143ef2fd",
   "metadata": {},
   "outputs": [],
   "source": []
  },
  {
   "cell_type": "markdown",
   "id": "66b306df",
   "metadata": {},
   "source": []
  },
  {
   "cell_type": "code",
   "execution_count": 255,
   "id": "2315c249",
   "metadata": {},
   "outputs": [],
   "source": [
    "df[\"LogSalePrice\"] = np.log(df[\"SalePrice\"])\n",
    "df[\"LogBuildingSquareFeet\"] = np.log(df[\"BuildingSquareFeet\"])\n",
    "df[\"Grp_LogSalePrice\"] = np.zeros(df.shape[0])\n",
    "df[\"Grp_LogSalePrice\"][df[\"LogSalePrice\"]<2.5] = \"lessthan2.5\"\n",
    "df[\"Grp_LogSalePrice\"][(df[\"LogSalePrice\"]>=2.5) & (df[\"LogSalePrice\"]<7.5)] = \"between2.5and7.5\"\n",
    "df[\"Grp_LogSalePrice\"][df[\"LogSalePrice\"]>=7.5] = \"over7.5\""
   ]
  },
  {
   "cell_type": "code",
   "execution_count": 256,
   "id": "c95dafc4",
   "metadata": {},
   "outputs": [
    {
     "data": {
      "text/plain": [
       "1.9319061009712968"
      ]
     },
     "execution_count": 256,
     "metadata": {},
     "output_type": "execute_result"
    }
   ],
   "source": [
    "Q1 = df[\"LogSalePrice\"].quantile(0.25)\n",
    "Q3 = df[\"LogSalePrice\"].quantile(0.75)\n",
    "IQR = Q3 - Q1\n",
    "IQR"
   ]
  },
  {
   "cell_type": "code",
   "execution_count": 257,
   "id": "9a160ad9",
   "metadata": {},
   "outputs": [
    {
     "data": {
      "text/plain": [
       "(168757, 65)"
      ]
     },
     "execution_count": 257,
     "metadata": {},
     "output_type": "execute_result"
    }
   ],
   "source": [
    "outliers = ~((df[\"LogSalePrice\"] < (Q1 - 1.5*IQR)) | (df[\"LogSalePrice\"] > (Q3 + 1.5*IQR)))\n",
    "df1 = df.copy()\n",
    "df = df1.loc[outliers,]\n",
    "df.shape"
   ]
  },
  {
   "cell_type": "code",
   "execution_count": 258,
   "id": "cad129de",
   "metadata": {},
   "outputs": [
    {
     "data": {
      "text/plain": [
       "Index(['PIN', 'PropertyClass', 'NeighborhoodCode', 'LandSquareFeet',\n",
       "       'TownCode', 'Apartments', 'WallMaterial', 'RoofMaterial', 'Basement',\n",
       "       'BasementFinish', 'CentralHeating', 'OtherHeating', 'CentralAir',\n",
       "       'Fireplaces', 'AtticType', 'AtticFinish', 'DesignPlan',\n",
       "       'CathedralCeiling', 'ConstructionQuality', 'SiteDesirability',\n",
       "       'Garage1Size', 'Garage1Material', 'Garage1Attachment', 'Garage1Area',\n",
       "       'Garage2Size', 'Garage2Material', 'Garage2Attachment', 'Garage2Area',\n",
       "       'Porch', 'OtherImprovements', 'BuildingSquareFeet', 'RepairCondition',\n",
       "       'MultiCode', 'NumberofCommercialUnits', 'Estimate(Land)',\n",
       "       'Estimate(Building)', 'DeedNo.', 'SalePrice', 'Longitude', 'Latitude',\n",
       "       'CensusTract', 'MultiPropertyIndicator', 'ModelingGroup', 'Age', 'Use',\n",
       "       'O'HareNoise', 'Floodplain', 'RoadProximity', 'SaleYear', 'SaleQuarter',\n",
       "       'SaleHalf-Year', 'SaleQuarterofYear', 'SaleMonthofYear',\n",
       "       'SaleHalfofYear', 'MostRecentSale', 'AgeDecade', 'PureMarketFilter',\n",
       "       'GarageIndicator', 'NeigborhoodCode(mapping)', 'TownandNeighborhood',\n",
       "       'Description', 'LotSize', 'LogSalePrice', 'LogBuildingSquareFeet',\n",
       "       'Grp_LogSalePrice'],\n",
       "      dtype='object')"
      ]
     },
     "execution_count": 258,
     "metadata": {},
     "output_type": "execute_result"
    }
   ],
   "source": [
    "df.columns"
   ]
  },
  {
   "cell_type": "code",
   "execution_count": 259,
   "id": "533b7851",
   "metadata": {},
   "outputs": [],
   "source": [
    "maxmin_ftr = ['Longitude','Latitude',]\n",
    "std_ftr = ['Fireplaces','LandSquareFeet', 'Garage1Size', 'Garage2Size',\n",
    "           \"NumberofCommercialUnits\", \n",
    "           'Estimate(Land)','Estimate(Building)', 'Age', 'SaleYear', \n",
    "           'SaleQuarter', 'SaleHalf-Year', 'AgeDecade', 'LotSize','LogBuildingSquareFeet']\n",
    "no_need = ['PIN', 'DeedNo.', 'Description', 'SalePrice', 'LogSalePrice','CensusTract', \n",
    "           'SiteDesirability', 'OtherImprovements', 'ModelingGroup', \"BuildingSquareFeet\"]\n",
    "ord_ftr = [\"BasementFinish\", \"AtticType\", \"ConstructionQuality\", \"RepairCondition\", \"Floodplain\"]\n",
    "onehot_ftr = [\"PropertyClass\",\"NeighborhoodCode\", \"TownCode\", \"Apartments\" ,\"WallMaterial\", \"RoofMaterial\",\"Basement\", \n",
    "              \"CentralHeating\", \"OtherHeating\", \"CentralAir\", \"AtticFinish\", \"DesignPlan\", \"CathedralCeiling\",\n",
    "              \"Garage1Material\", \"Garage1Attachment\", \"Garage1Area\", \n",
    "              \"Garage2Material\", \"Garage2Attachment\", \"Garage2Area\", \n",
    "              \"Porch\", \"MultiCode\", \"MultiPropertyIndicator\", \"Use\", \"O'HareNoise\", \"RoadProximity\", \n",
    "              \"SaleQuarterofYear\", 'SaleMonthofYear', 'SaleHalfofYear', \"MostRecentSale\", \"PureMarketFilter\", \n",
    "              \"GarageIndicator\", \"NeigborhoodCode(mapping)\", \"TownandNeighborhood\"]\n",
    "\n",
    "ord_cat = [[1.0, 2.0, 3.0], [1.0, 2.0, 3.0], [1.0, 2.0, 3.0], [1.0, 2.0, 3.0], [0.0, 1.0]]"
   ]
  },
  {
   "cell_type": "code",
   "execution_count": 284,
   "id": "e6fe23bf",
   "metadata": {},
   "outputs": [],
   "source": [
    "# Use stratified splitting\n",
    "from collections import Counter\n",
    "#y_forsplitting = df[[\"Grp_LogSalePrice\"]]\n",
    "#X_forsplitting = df.loc[:, ((df.columns != \"SalePrice\") & (df.columns != \"LogSalePrice\"))]\n",
    "\n",
    "def stratified_fcn(X, y, train_size, val_size, test_size, strati_tar, random_seed, num_folds):\n",
    "    X_other, X_test, y_other, y_test = train_test_split(X, y, test_size= test_size, random_state = random_seed, stratify = strati_tar)\n",
    "    second_split = StratifiedKFold(n_splits=num_folds, shuffle = True, random_state=random_seed)\n",
    "    ind_needed = X_other.index\n",
    "    new_strat = strati_tar[ind_needed]\n",
    "    total = {\"X_train\":[], \"y_train\":[], \"X_val\":[], \"y_val\":[], \"X_test\":[], \"y_test\":[]}\n",
    "    for train_ind, val_ind in second_split.split(X_other, y_other, groups=new_strat):\n",
    "        X_train = X_other.iloc[train_ind]\n",
    "        y_train = y_other.iloc[train_ind]\n",
    "        X_val = X_other.iloc[val_ind]\n",
    "        y_val = y_other.iloc[val_ind]\n",
    "        total[\"X_val\"].append(X_val)\n",
    "        total[\"y_val\"].append(y_val)\n",
    "        total[\"X_train\"].append(X_train)\n",
    "        total[\"y_train\"].append(y_train)\n",
    "    total[\"X_test\"].append(X_test)\n",
    "    total[\"y_test\"].append(y_test) \n",
    "    return total\n",
    "\n",
    "\n",
    "#splitting = stratified_fcn(X_forsplitting, y_forsplitting, 0.8, 0.1, 0.1, df[\"Grp_LogSalePrice\"], 44, 5) \n",
    "\n",
    "\n",
    "X = df.loc[:, ((df.columns != \"Grp_LogSalePrice\"))]\n",
    "X = X.drop(columns = no_need)\n",
    "y = df[\"LogSalePrice\"]\n",
    "\n",
    "def getting_split(df_set):\n",
    "    training_index = [i.index.to_list() for i in df_set[\"X_train\"]]\n",
    "    validation_index = [i.index.to_list() for i in df_set[\"X_val\"]]\n",
    "    testing_index = [i.index.to_list() for i in df_set[\"X_test\"]]\n",
    "    for i in range(0, len(training_index)):\n",
    "        #globals()[\"X_training_fold_\" + str(i)] = X.iloc[training_index[i]]\n",
    "        #globals()[\"X_validation_fold_\" + str(i)] = X.iloc[validation_index[i]]\n",
    "        #globals()[\"y_training_fold_\" + str(i)] = y.iloc[training_index[i]]\n",
    "        #globals()[\"y_validation_fold_\" + str(i)] = y.iloc[validation_index[i]]\n",
    "        globals()[\"fold_\" + str(i)] = {\"X_training\": X.iloc[training_index[i]], \"y_training\": y.iloc[training_index[i]], \n",
    "                                       \"X_validation\": X.iloc[validation_index[i]], \"y_validation\": y.iloc[validation_index[i]],\n",
    "                                       \"X_testing\": X.iloc[testing_index[0]], \"y_testing\": y.iloc[testing_index[0]]}\n",
    "    return {\"fold_1\": fold_0, \"fold_2\": fold_1, \"fold_3\": fold_2, \"fold_4\": fold_3, \"fold_5\": fold_4}\n",
    "\n",
    "\n",
    "#folds = getting_split(splitting)"
   ]
  },
  {
   "cell_type": "code",
   "execution_count": 321,
   "id": "24fe4c64",
   "metadata": {
    "scrolled": true
   },
   "outputs": [
    {
     "data": {
      "text/html": [
       "<div>\n",
       "<style scoped>\n",
       "    .dataframe tbody tr th:only-of-type {\n",
       "        vertical-align: middle;\n",
       "    }\n",
       "\n",
       "    .dataframe tbody tr th {\n",
       "        vertical-align: top;\n",
       "    }\n",
       "\n",
       "    .dataframe thead th {\n",
       "        text-align: right;\n",
       "    }\n",
       "</style>\n",
       "<table border=\"1\" class=\"dataframe\">\n",
       "  <thead>\n",
       "    <tr style=\"text-align: right;\">\n",
       "      <th></th>\n",
       "      <th>TownCode</th>\n",
       "      <th>Apartments</th>\n",
       "    </tr>\n",
       "  </thead>\n",
       "  <tbody>\n",
       "    <tr>\n",
       "      <th>1</th>\n",
       "      <td>71</td>\n",
       "      <td>0.0</td>\n",
       "    </tr>\n",
       "    <tr>\n",
       "      <th>2</th>\n",
       "      <td>70</td>\n",
       "      <td>0.0</td>\n",
       "    </tr>\n",
       "    <tr>\n",
       "      <th>3</th>\n",
       "      <td>17</td>\n",
       "      <td>0.0</td>\n",
       "    </tr>\n",
       "    <tr>\n",
       "      <th>4</th>\n",
       "      <td>32</td>\n",
       "      <td>0.0</td>\n",
       "    </tr>\n",
       "    <tr>\n",
       "      <th>6</th>\n",
       "      <td>37</td>\n",
       "      <td>0.0</td>\n",
       "    </tr>\n",
       "    <tr>\n",
       "      <th>...</th>\n",
       "      <td>...</td>\n",
       "      <td>...</td>\n",
       "    </tr>\n",
       "    <tr>\n",
       "      <th>204787</th>\n",
       "      <td>72</td>\n",
       "      <td>0.0</td>\n",
       "    </tr>\n",
       "    <tr>\n",
       "      <th>204788</th>\n",
       "      <td>23</td>\n",
       "      <td>0.0</td>\n",
       "    </tr>\n",
       "    <tr>\n",
       "      <th>204789</th>\n",
       "      <td>15</td>\n",
       "      <td>0.0</td>\n",
       "    </tr>\n",
       "    <tr>\n",
       "      <th>204790</th>\n",
       "      <td>22</td>\n",
       "      <td>0.0</td>\n",
       "    </tr>\n",
       "    <tr>\n",
       "      <th>204791</th>\n",
       "      <td>72</td>\n",
       "      <td>0.0</td>\n",
       "    </tr>\n",
       "  </tbody>\n",
       "</table>\n",
       "<p>168757 rows × 2 columns</p>\n",
       "</div>"
      ],
      "text/plain": [
       "        TownCode  Apartments\n",
       "1             71         0.0\n",
       "2             70         0.0\n",
       "3             17         0.0\n",
       "4             32         0.0\n",
       "6             37         0.0\n",
       "...          ...         ...\n",
       "204787        72         0.0\n",
       "204788        23         0.0\n",
       "204789        15         0.0\n",
       "204790        22         0.0\n",
       "204791        72         0.0\n",
       "\n",
       "[168757 rows x 2 columns]"
      ]
     },
     "execution_count": 321,
     "metadata": {},
     "output_type": "execute_result"
    }
   ],
   "source": [
    "X[[\"TownCode\", \"Apartments\"]]"
   ]
  },
  {
   "cell_type": "code",
   "execution_count": 351,
   "id": "87e4dde0",
   "metadata": {},
   "outputs": [
    {
     "data": {
      "text/html": [
       "<div>\n",
       "<style scoped>\n",
       "    .dataframe tbody tr th:only-of-type {\n",
       "        vertical-align: middle;\n",
       "    }\n",
       "\n",
       "    .dataframe tbody tr th {\n",
       "        vertical-align: top;\n",
       "    }\n",
       "\n",
       "    .dataframe thead th {\n",
       "        text-align: right;\n",
       "    }\n",
       "</style>\n",
       "<table border=\"1\" class=\"dataframe\">\n",
       "  <thead>\n",
       "    <tr style=\"text-align: right;\">\n",
       "      <th></th>\n",
       "      <th>NeighborhoodCode</th>\n",
       "      <th>LandSquareFeet</th>\n",
       "      <th>TownCode</th>\n",
       "    </tr>\n",
       "  </thead>\n",
       "  <tbody>\n",
       "    <tr>\n",
       "      <th>1</th>\n",
       "      <td>120</td>\n",
       "      <td>3780.0</td>\n",
       "      <td>71</td>\n",
       "    </tr>\n",
       "    <tr>\n",
       "      <th>2</th>\n",
       "      <td>210</td>\n",
       "      <td>4375.0</td>\n",
       "      <td>70</td>\n",
       "    </tr>\n",
       "    <tr>\n",
       "      <th>3</th>\n",
       "      <td>220</td>\n",
       "      <td>4375.0</td>\n",
       "      <td>17</td>\n",
       "    </tr>\n",
       "    <tr>\n",
       "      <th>4</th>\n",
       "      <td>120</td>\n",
       "      <td>8400.0</td>\n",
       "      <td>32</td>\n",
       "    </tr>\n",
       "    <tr>\n",
       "      <th>6</th>\n",
       "      <td>181</td>\n",
       "      <td>10890.0</td>\n",
       "      <td>37</td>\n",
       "    </tr>\n",
       "    <tr>\n",
       "      <th>...</th>\n",
       "      <td>...</td>\n",
       "      <td>...</td>\n",
       "      <td>...</td>\n",
       "    </tr>\n",
       "    <tr>\n",
       "      <th>204787</th>\n",
       "      <td>321</td>\n",
       "      <td>4375.0</td>\n",
       "      <td>72</td>\n",
       "    </tr>\n",
       "    <tr>\n",
       "      <th>204788</th>\n",
       "      <td>21</td>\n",
       "      <td>16509.0</td>\n",
       "      <td>23</td>\n",
       "    </tr>\n",
       "    <tr>\n",
       "      <th>204789</th>\n",
       "      <td>90</td>\n",
       "      <td>3810.0</td>\n",
       "      <td>15</td>\n",
       "    </tr>\n",
       "    <tr>\n",
       "      <th>204790</th>\n",
       "      <td>80</td>\n",
       "      <td>6650.0</td>\n",
       "      <td>22</td>\n",
       "    </tr>\n",
       "    <tr>\n",
       "      <th>204791</th>\n",
       "      <td>30</td>\n",
       "      <td>2500.0</td>\n",
       "      <td>72</td>\n",
       "    </tr>\n",
       "  </tbody>\n",
       "</table>\n",
       "<p>168757 rows × 3 columns</p>\n",
       "</div>"
      ],
      "text/plain": [
       "        NeighborhoodCode  LandSquareFeet  TownCode\n",
       "1                    120          3780.0        71\n",
       "2                    210          4375.0        70\n",
       "3                    220          4375.0        17\n",
       "4                    120          8400.0        32\n",
       "6                    181         10890.0        37\n",
       "...                  ...             ...       ...\n",
       "204787               321          4375.0        72\n",
       "204788                21         16509.0        23\n",
       "204789                90          3810.0        15\n",
       "204790                80          6650.0        22\n",
       "204791                30          2500.0        72\n",
       "\n",
       "[168757 rows x 3 columns]"
      ]
     },
     "execution_count": 351,
     "metadata": {},
     "output_type": "execute_result"
    }
   ],
   "source": [
    "X.iloc[:, [1, 2, 3]]"
   ]
  },
  {
   "cell_type": "code",
   "execution_count": 372,
   "id": "a0a86e10",
   "metadata": {},
   "outputs": [],
   "source": [
    "preprocessor = ColumnTransformer(\n",
    "    transformers=[\n",
    "        ('onehot', OneHotEncoder(sparse=False,handle_unknown='ignore'), onehot_ftr),\n",
    "        ('minmax', MinMaxScaler(), maxmin_ftr),\n",
    "        ('std', StandardScaler(), std_ftr),\n",
    "        ('ord', OrdinalEncoder(categories = ord_cat), ord_ftr)])\n",
    "\n",
    "def MLpipe_strKFold_RMSE(X, y, preprocessor, ML_algo, parameter_grid, strati_tar, num_folds):\n",
    "    best_models = []\n",
    "    test_scores = []\n",
    "    state_lst = [random.randint(0, 1000) for _ in range(5)]\n",
    "    \n",
    "    for state in state_lst:\n",
    "        pipe = Pipeline(steps = [('preprocessor', preprocessor),\n",
    "                                 ('colselect', FunctionTransformer(keep_columns)),\n",
    "                                 ('regressor', ML_algo)])\n",
    "        X_other, X_test, y_other, y_test = train_test_split(X, y, test_size= 0.20, \n",
    "                                                            random_state = state, stratify = strati_tar)\n",
    "        kf = KFold(n_splits = num_folds, shuffle = True, random_state=state)\n",
    "        grid = GridSearchCV(pipe, param_grid = parameter_grid,\n",
    "                           scoring = make_scorer(mean_squared_error, greater_is_better = False, squared = False),\n",
    "                           cv = kf, return_train_score = True, n_jobs = -1, verbose = False)\n",
    "        grid.fit(X_other, y_other)\n",
    "        predictions = grid.predict(X_test)\n",
    "        best_model = grid.best_params_\n",
    "        test_score = mean_squared_error(y_test, predictions, squared = False)\n",
    "        best_models.append(best_model)\n",
    "        test_scores.append(test_score)\n",
    "    return best_models, test_scores"
   ]
  },
  {
   "cell_type": "markdown",
   "id": "ab244744",
   "metadata": {},
   "source": [
    "#### Lasso"
   ]
  },
  {
   "cell_type": "code",
   "execution_count": 373,
   "id": "793b95ea",
   "metadata": {},
   "outputs": [
    {
     "name": "stderr",
     "output_type": "stream",
     "text": [
      "/opt/anaconda3/envs/data1030/lib/python3.9/site-packages/sklearn/model_selection/_validation.py:615: FitFailedWarning: Estimator fit failed. The score on this train-test partition for these parameters will be set to nan. Details: \n",
      "Traceback (most recent call last):\n",
      "  File \"/opt/anaconda3/envs/data1030/lib/python3.9/site-packages/sklearn/model_selection/_validation.py\", line 598, in _fit_and_score\n",
      "    estimator.fit(X_train, y_train, **fit_params)\n",
      "  File \"/opt/anaconda3/envs/data1030/lib/python3.9/site-packages/sklearn/pipeline.py\", line 341, in fit\n",
      "    Xt = self._fit(X, y, **fit_params_steps)\n",
      "  File \"/opt/anaconda3/envs/data1030/lib/python3.9/site-packages/sklearn/pipeline.py\", line 303, in _fit\n",
      "    X, fitted_transformer = fit_transform_one_cached(\n",
      "  File \"/opt/anaconda3/envs/data1030/lib/python3.9/site-packages/joblib/memory.py\", line 352, in __call__\n",
      "    return self.func(*args, **kwargs)\n",
      "  File \"/opt/anaconda3/envs/data1030/lib/python3.9/site-packages/sklearn/pipeline.py\", line 754, in _fit_transform_one\n",
      "    res = transformer.fit_transform(X, y, **fit_params)\n",
      "  File \"/opt/anaconda3/envs/data1030/lib/python3.9/site-packages/sklearn/base.py\", line 702, in fit_transform\n",
      "    return self.fit(X, y, **fit_params).transform(X)\n",
      "  File \"/opt/anaconda3/envs/data1030/lib/python3.9/site-packages/sklearn/preprocessing/_function_transformer.py\", line 147, in transform\n",
      "    return self._transform(X, func=self.func, kw_args=self.kw_args)\n",
      "  File \"/opt/anaconda3/envs/data1030/lib/python3.9/site-packages/sklearn/preprocessing/_function_transformer.py\", line 171, in _transform\n",
      "    return func(X, **(kw_args if kw_args else {}))\n",
      "  File \"/var/folders/y4/58ztr84x6db8cy20vnc5n9f80000gn/T/ipykernel_91513/2826007780.py\", line 2, in keep_columns\n",
      "AttributeError: 'numpy.ndarray' object has no attribute 'drop'\n",
      "\n",
      "  warnings.warn(\"Estimator fit failed. The score on this train-test\"\n",
      "/opt/anaconda3/envs/data1030/lib/python3.9/site-packages/sklearn/model_selection/_validation.py:615: FitFailedWarning: Estimator fit failed. The score on this train-test partition for these parameters will be set to nan. Details: \n",
      "Traceback (most recent call last):\n",
      "  File \"/opt/anaconda3/envs/data1030/lib/python3.9/site-packages/sklearn/model_selection/_validation.py\", line 598, in _fit_and_score\n",
      "    estimator.fit(X_train, y_train, **fit_params)\n",
      "  File \"/opt/anaconda3/envs/data1030/lib/python3.9/site-packages/sklearn/pipeline.py\", line 341, in fit\n",
      "    Xt = self._fit(X, y, **fit_params_steps)\n",
      "  File \"/opt/anaconda3/envs/data1030/lib/python3.9/site-packages/sklearn/pipeline.py\", line 303, in _fit\n",
      "    X, fitted_transformer = fit_transform_one_cached(\n",
      "  File \"/opt/anaconda3/envs/data1030/lib/python3.9/site-packages/joblib/memory.py\", line 352, in __call__\n",
      "    return self.func(*args, **kwargs)\n",
      "  File \"/opt/anaconda3/envs/data1030/lib/python3.9/site-packages/sklearn/pipeline.py\", line 754, in _fit_transform_one\n",
      "    res = transformer.fit_transform(X, y, **fit_params)\n",
      "  File \"/opt/anaconda3/envs/data1030/lib/python3.9/site-packages/sklearn/base.py\", line 702, in fit_transform\n",
      "    return self.fit(X, y, **fit_params).transform(X)\n",
      "  File \"/opt/anaconda3/envs/data1030/lib/python3.9/site-packages/sklearn/preprocessing/_function_transformer.py\", line 147, in transform\n",
      "    return self._transform(X, func=self.func, kw_args=self.kw_args)\n",
      "  File \"/opt/anaconda3/envs/data1030/lib/python3.9/site-packages/sklearn/preprocessing/_function_transformer.py\", line 171, in _transform\n",
      "    return func(X, **(kw_args if kw_args else {}))\n",
      "  File \"/var/folders/y4/58ztr84x6db8cy20vnc5n9f80000gn/T/ipykernel_91513/2826007780.py\", line 2, in keep_columns\n",
      "AttributeError: 'numpy.ndarray' object has no attribute 'drop'\n",
      "\n",
      "  warnings.warn(\"Estimator fit failed. The score on this train-test\"\n",
      "/opt/anaconda3/envs/data1030/lib/python3.9/site-packages/sklearn/model_selection/_validation.py:615: FitFailedWarning: Estimator fit failed. The score on this train-test partition for these parameters will be set to nan. Details: \n",
      "Traceback (most recent call last):\n",
      "  File \"/opt/anaconda3/envs/data1030/lib/python3.9/site-packages/sklearn/model_selection/_validation.py\", line 598, in _fit_and_score\n",
      "    estimator.fit(X_train, y_train, **fit_params)\n",
      "  File \"/opt/anaconda3/envs/data1030/lib/python3.9/site-packages/sklearn/pipeline.py\", line 341, in fit\n",
      "    Xt = self._fit(X, y, **fit_params_steps)\n",
      "  File \"/opt/anaconda3/envs/data1030/lib/python3.9/site-packages/sklearn/pipeline.py\", line 303, in _fit\n",
      "    X, fitted_transformer = fit_transform_one_cached(\n",
      "  File \"/opt/anaconda3/envs/data1030/lib/python3.9/site-packages/joblib/memory.py\", line 352, in __call__\n",
      "    return self.func(*args, **kwargs)\n",
      "  File \"/opt/anaconda3/envs/data1030/lib/python3.9/site-packages/sklearn/pipeline.py\", line 754, in _fit_transform_one\n",
      "    res = transformer.fit_transform(X, y, **fit_params)\n",
      "  File \"/opt/anaconda3/envs/data1030/lib/python3.9/site-packages/sklearn/base.py\", line 702, in fit_transform\n",
      "    return self.fit(X, y, **fit_params).transform(X)\n",
      "  File \"/opt/anaconda3/envs/data1030/lib/python3.9/site-packages/sklearn/preprocessing/_function_transformer.py\", line 147, in transform\n",
      "    return self._transform(X, func=self.func, kw_args=self.kw_args)\n",
      "  File \"/opt/anaconda3/envs/data1030/lib/python3.9/site-packages/sklearn/preprocessing/_function_transformer.py\", line 171, in _transform\n",
      "    return func(X, **(kw_args if kw_args else {}))\n",
      "  File \"/var/folders/y4/58ztr84x6db8cy20vnc5n9f80000gn/T/ipykernel_91513/2826007780.py\", line 2, in keep_columns\n",
      "AttributeError: 'numpy.ndarray' object has no attribute 'drop'\n",
      "\n",
      "  warnings.warn(\"Estimator fit failed. The score on this train-test\"\n",
      "/opt/anaconda3/envs/data1030/lib/python3.9/site-packages/sklearn/model_selection/_validation.py:615: FitFailedWarning: Estimator fit failed. The score on this train-test partition for these parameters will be set to nan. Details: \n",
      "Traceback (most recent call last):\n",
      "  File \"/opt/anaconda3/envs/data1030/lib/python3.9/site-packages/sklearn/model_selection/_validation.py\", line 598, in _fit_and_score\n",
      "    estimator.fit(X_train, y_train, **fit_params)\n",
      "  File \"/opt/anaconda3/envs/data1030/lib/python3.9/site-packages/sklearn/pipeline.py\", line 341, in fit\n",
      "    Xt = self._fit(X, y, **fit_params_steps)\n",
      "  File \"/opt/anaconda3/envs/data1030/lib/python3.9/site-packages/sklearn/pipeline.py\", line 303, in _fit\n",
      "    X, fitted_transformer = fit_transform_one_cached(\n",
      "  File \"/opt/anaconda3/envs/data1030/lib/python3.9/site-packages/joblib/memory.py\", line 352, in __call__\n",
      "    return self.func(*args, **kwargs)\n",
      "  File \"/opt/anaconda3/envs/data1030/lib/python3.9/site-packages/sklearn/pipeline.py\", line 754, in _fit_transform_one\n",
      "    res = transformer.fit_transform(X, y, **fit_params)\n",
      "  File \"/opt/anaconda3/envs/data1030/lib/python3.9/site-packages/sklearn/base.py\", line 702, in fit_transform\n",
      "    return self.fit(X, y, **fit_params).transform(X)\n",
      "  File \"/opt/anaconda3/envs/data1030/lib/python3.9/site-packages/sklearn/preprocessing/_function_transformer.py\", line 147, in transform\n",
      "    return self._transform(X, func=self.func, kw_args=self.kw_args)\n",
      "  File \"/opt/anaconda3/envs/data1030/lib/python3.9/site-packages/sklearn/preprocessing/_function_transformer.py\", line 171, in _transform\n",
      "    return func(X, **(kw_args if kw_args else {}))\n",
      "  File \"/var/folders/y4/58ztr84x6db8cy20vnc5n9f80000gn/T/ipykernel_91513/2826007780.py\", line 2, in keep_columns\n",
      "AttributeError: 'numpy.ndarray' object has no attribute 'drop'\n",
      "\n",
      "  warnings.warn(\"Estimator fit failed. The score on this train-test\"\n",
      "/opt/anaconda3/envs/data1030/lib/python3.9/site-packages/sklearn/model_selection/_validation.py:615: FitFailedWarning: Estimator fit failed. The score on this train-test partition for these parameters will be set to nan. Details: \n",
      "Traceback (most recent call last):\n",
      "  File \"/opt/anaconda3/envs/data1030/lib/python3.9/site-packages/sklearn/model_selection/_validation.py\", line 598, in _fit_and_score\n",
      "    estimator.fit(X_train, y_train, **fit_params)\n",
      "  File \"/opt/anaconda3/envs/data1030/lib/python3.9/site-packages/sklearn/pipeline.py\", line 341, in fit\n",
      "    Xt = self._fit(X, y, **fit_params_steps)\n",
      "  File \"/opt/anaconda3/envs/data1030/lib/python3.9/site-packages/sklearn/pipeline.py\", line 303, in _fit\n",
      "    X, fitted_transformer = fit_transform_one_cached(\n",
      "  File \"/opt/anaconda3/envs/data1030/lib/python3.9/site-packages/joblib/memory.py\", line 352, in __call__\n",
      "    return self.func(*args, **kwargs)\n",
      "  File \"/opt/anaconda3/envs/data1030/lib/python3.9/site-packages/sklearn/pipeline.py\", line 754, in _fit_transform_one\n",
      "    res = transformer.fit_transform(X, y, **fit_params)\n",
      "  File \"/opt/anaconda3/envs/data1030/lib/python3.9/site-packages/sklearn/base.py\", line 702, in fit_transform\n",
      "    return self.fit(X, y, **fit_params).transform(X)\n",
      "  File \"/opt/anaconda3/envs/data1030/lib/python3.9/site-packages/sklearn/preprocessing/_function_transformer.py\", line 147, in transform\n",
      "    return self._transform(X, func=self.func, kw_args=self.kw_args)\n",
      "  File \"/opt/anaconda3/envs/data1030/lib/python3.9/site-packages/sklearn/preprocessing/_function_transformer.py\", line 171, in _transform\n",
      "    return func(X, **(kw_args if kw_args else {}))\n",
      "  File \"/var/folders/y4/58ztr84x6db8cy20vnc5n9f80000gn/T/ipykernel_91513/2826007780.py\", line 2, in keep_columns\n",
      "AttributeError: 'numpy.ndarray' object has no attribute 'drop'\n",
      "\n",
      "  warnings.warn(\"Estimator fit failed. The score on this train-test\"\n",
      "/opt/anaconda3/envs/data1030/lib/python3.9/site-packages/sklearn/model_selection/_validation.py:615: FitFailedWarning: Estimator fit failed. The score on this train-test partition for these parameters will be set to nan. Details: \n",
      "Traceback (most recent call last):\n",
      "  File \"/opt/anaconda3/envs/data1030/lib/python3.9/site-packages/sklearn/model_selection/_validation.py\", line 598, in _fit_and_score\n",
      "    estimator.fit(X_train, y_train, **fit_params)\n",
      "  File \"/opt/anaconda3/envs/data1030/lib/python3.9/site-packages/sklearn/pipeline.py\", line 341, in fit\n",
      "    Xt = self._fit(X, y, **fit_params_steps)\n",
      "  File \"/opt/anaconda3/envs/data1030/lib/python3.9/site-packages/sklearn/pipeline.py\", line 303, in _fit\n",
      "    X, fitted_transformer = fit_transform_one_cached(\n",
      "  File \"/opt/anaconda3/envs/data1030/lib/python3.9/site-packages/joblib/memory.py\", line 352, in __call__\n",
      "    return self.func(*args, **kwargs)\n",
      "  File \"/opt/anaconda3/envs/data1030/lib/python3.9/site-packages/sklearn/pipeline.py\", line 754, in _fit_transform_one\n",
      "    res = transformer.fit_transform(X, y, **fit_params)\n",
      "  File \"/opt/anaconda3/envs/data1030/lib/python3.9/site-packages/sklearn/base.py\", line 702, in fit_transform\n",
      "    return self.fit(X, y, **fit_params).transform(X)\n",
      "  File \"/opt/anaconda3/envs/data1030/lib/python3.9/site-packages/sklearn/preprocessing/_function_transformer.py\", line 147, in transform\n",
      "    return self._transform(X, func=self.func, kw_args=self.kw_args)\n",
      "  File \"/opt/anaconda3/envs/data1030/lib/python3.9/site-packages/sklearn/preprocessing/_function_transformer.py\", line 171, in _transform\n",
      "    return func(X, **(kw_args if kw_args else {}))\n",
      "  File \"/var/folders/y4/58ztr84x6db8cy20vnc5n9f80000gn/T/ipykernel_91513/2826007780.py\", line 2, in keep_columns\n",
      "AttributeError: 'numpy.ndarray' object has no attribute 'drop'\n",
      "\n",
      "  warnings.warn(\"Estimator fit failed. The score on this train-test\"\n",
      "/opt/anaconda3/envs/data1030/lib/python3.9/site-packages/sklearn/model_selection/_validation.py:615: FitFailedWarning: Estimator fit failed. The score on this train-test partition for these parameters will be set to nan. Details: \n",
      "Traceback (most recent call last):\n",
      "  File \"/opt/anaconda3/envs/data1030/lib/python3.9/site-packages/sklearn/model_selection/_validation.py\", line 598, in _fit_and_score\n",
      "    estimator.fit(X_train, y_train, **fit_params)\n",
      "  File \"/opt/anaconda3/envs/data1030/lib/python3.9/site-packages/sklearn/pipeline.py\", line 341, in fit\n",
      "    Xt = self._fit(X, y, **fit_params_steps)\n",
      "  File \"/opt/anaconda3/envs/data1030/lib/python3.9/site-packages/sklearn/pipeline.py\", line 303, in _fit\n",
      "    X, fitted_transformer = fit_transform_one_cached(\n",
      "  File \"/opt/anaconda3/envs/data1030/lib/python3.9/site-packages/joblib/memory.py\", line 352, in __call__\n",
      "    return self.func(*args, **kwargs)\n",
      "  File \"/opt/anaconda3/envs/data1030/lib/python3.9/site-packages/sklearn/pipeline.py\", line 754, in _fit_transform_one\n",
      "    res = transformer.fit_transform(X, y, **fit_params)\n",
      "  File \"/opt/anaconda3/envs/data1030/lib/python3.9/site-packages/sklearn/base.py\", line 702, in fit_transform\n",
      "    return self.fit(X, y, **fit_params).transform(X)\n",
      "  File \"/opt/anaconda3/envs/data1030/lib/python3.9/site-packages/sklearn/preprocessing/_function_transformer.py\", line 147, in transform\n",
      "    return self._transform(X, func=self.func, kw_args=self.kw_args)\n",
      "  File \"/opt/anaconda3/envs/data1030/lib/python3.9/site-packages/sklearn/preprocessing/_function_transformer.py\", line 171, in _transform\n",
      "    return func(X, **(kw_args if kw_args else {}))\n",
      "  File \"/var/folders/y4/58ztr84x6db8cy20vnc5n9f80000gn/T/ipykernel_91513/2826007780.py\", line 2, in keep_columns\n",
      "AttributeError: 'numpy.ndarray' object has no attribute 'drop'\n",
      "\n",
      "  warnings.warn(\"Estimator fit failed. The score on this train-test\"\n",
      "/opt/anaconda3/envs/data1030/lib/python3.9/site-packages/sklearn/model_selection/_validation.py:615: FitFailedWarning: Estimator fit failed. The score on this train-test partition for these parameters will be set to nan. Details: \n",
      "Traceback (most recent call last):\n",
      "  File \"/opt/anaconda3/envs/data1030/lib/python3.9/site-packages/sklearn/model_selection/_validation.py\", line 598, in _fit_and_score\n",
      "    estimator.fit(X_train, y_train, **fit_params)\n",
      "  File \"/opt/anaconda3/envs/data1030/lib/python3.9/site-packages/sklearn/pipeline.py\", line 341, in fit\n",
      "    Xt = self._fit(X, y, **fit_params_steps)\n",
      "  File \"/opt/anaconda3/envs/data1030/lib/python3.9/site-packages/sklearn/pipeline.py\", line 303, in _fit\n",
      "    X, fitted_transformer = fit_transform_one_cached(\n",
      "  File \"/opt/anaconda3/envs/data1030/lib/python3.9/site-packages/joblib/memory.py\", line 352, in __call__\n",
      "    return self.func(*args, **kwargs)\n",
      "  File \"/opt/anaconda3/envs/data1030/lib/python3.9/site-packages/sklearn/pipeline.py\", line 754, in _fit_transform_one\n",
      "    res = transformer.fit_transform(X, y, **fit_params)\n",
      "  File \"/opt/anaconda3/envs/data1030/lib/python3.9/site-packages/sklearn/base.py\", line 702, in fit_transform\n",
      "    return self.fit(X, y, **fit_params).transform(X)\n",
      "  File \"/opt/anaconda3/envs/data1030/lib/python3.9/site-packages/sklearn/preprocessing/_function_transformer.py\", line 147, in transform\n",
      "    return self._transform(X, func=self.func, kw_args=self.kw_args)\n",
      "  File \"/opt/anaconda3/envs/data1030/lib/python3.9/site-packages/sklearn/preprocessing/_function_transformer.py\", line 171, in _transform\n",
      "    return func(X, **(kw_args if kw_args else {}))\n",
      "  File \"/var/folders/y4/58ztr84x6db8cy20vnc5n9f80000gn/T/ipykernel_91513/2826007780.py\", line 2, in keep_columns\n",
      "AttributeError: 'numpy.ndarray' object has no attribute 'drop'\n",
      "\n",
      "  warnings.warn(\"Estimator fit failed. The score on this train-test\"\n",
      "/opt/anaconda3/envs/data1030/lib/python3.9/site-packages/sklearn/model_selection/_validation.py:615: FitFailedWarning: Estimator fit failed. The score on this train-test partition for these parameters will be set to nan. Details: \n",
      "Traceback (most recent call last):\n",
      "  File \"/opt/anaconda3/envs/data1030/lib/python3.9/site-packages/sklearn/model_selection/_validation.py\", line 598, in _fit_and_score\n",
      "    estimator.fit(X_train, y_train, **fit_params)\n",
      "  File \"/opt/anaconda3/envs/data1030/lib/python3.9/site-packages/sklearn/pipeline.py\", line 341, in fit\n",
      "    Xt = self._fit(X, y, **fit_params_steps)\n",
      "  File \"/opt/anaconda3/envs/data1030/lib/python3.9/site-packages/sklearn/pipeline.py\", line 303, in _fit\n",
      "    X, fitted_transformer = fit_transform_one_cached(\n",
      "  File \"/opt/anaconda3/envs/data1030/lib/python3.9/site-packages/joblib/memory.py\", line 352, in __call__\n",
      "    return self.func(*args, **kwargs)\n",
      "  File \"/opt/anaconda3/envs/data1030/lib/python3.9/site-packages/sklearn/pipeline.py\", line 754, in _fit_transform_one\n",
      "    res = transformer.fit_transform(X, y, **fit_params)\n",
      "  File \"/opt/anaconda3/envs/data1030/lib/python3.9/site-packages/sklearn/base.py\", line 702, in fit_transform\n",
      "    return self.fit(X, y, **fit_params).transform(X)\n",
      "  File \"/opt/anaconda3/envs/data1030/lib/python3.9/site-packages/sklearn/preprocessing/_function_transformer.py\", line 147, in transform\n",
      "    return self._transform(X, func=self.func, kw_args=self.kw_args)\n",
      "  File \"/opt/anaconda3/envs/data1030/lib/python3.9/site-packages/sklearn/preprocessing/_function_transformer.py\", line 171, in _transform\n",
      "    return func(X, **(kw_args if kw_args else {}))\n",
      "  File \"/var/folders/y4/58ztr84x6db8cy20vnc5n9f80000gn/T/ipykernel_91513/2826007780.py\", line 2, in keep_columns\n",
      "AttributeError: 'numpy.ndarray' object has no attribute 'drop'\n",
      "\n",
      "  warnings.warn(\"Estimator fit failed. The score on this train-test\"\n",
      "/opt/anaconda3/envs/data1030/lib/python3.9/site-packages/sklearn/model_selection/_validation.py:615: FitFailedWarning: Estimator fit failed. The score on this train-test partition for these parameters will be set to nan. Details: \n",
      "Traceback (most recent call last):\n",
      "  File \"/opt/anaconda3/envs/data1030/lib/python3.9/site-packages/sklearn/model_selection/_validation.py\", line 598, in _fit_and_score\n",
      "    estimator.fit(X_train, y_train, **fit_params)\n",
      "  File \"/opt/anaconda3/envs/data1030/lib/python3.9/site-packages/sklearn/pipeline.py\", line 341, in fit\n",
      "    Xt = self._fit(X, y, **fit_params_steps)\n",
      "  File \"/opt/anaconda3/envs/data1030/lib/python3.9/site-packages/sklearn/pipeline.py\", line 303, in _fit\n",
      "    X, fitted_transformer = fit_transform_one_cached(\n",
      "  File \"/opt/anaconda3/envs/data1030/lib/python3.9/site-packages/joblib/memory.py\", line 352, in __call__\n",
      "    return self.func(*args, **kwargs)\n",
      "  File \"/opt/anaconda3/envs/data1030/lib/python3.9/site-packages/sklearn/pipeline.py\", line 754, in _fit_transform_one\n",
      "    res = transformer.fit_transform(X, y, **fit_params)\n",
      "  File \"/opt/anaconda3/envs/data1030/lib/python3.9/site-packages/sklearn/base.py\", line 702, in fit_transform\n",
      "    return self.fit(X, y, **fit_params).transform(X)\n",
      "  File \"/opt/anaconda3/envs/data1030/lib/python3.9/site-packages/sklearn/preprocessing/_function_transformer.py\", line 147, in transform\n",
      "    return self._transform(X, func=self.func, kw_args=self.kw_args)\n",
      "  File \"/opt/anaconda3/envs/data1030/lib/python3.9/site-packages/sklearn/preprocessing/_function_transformer.py\", line 171, in _transform\n",
      "    return func(X, **(kw_args if kw_args else {}))\n",
      "  File \"/var/folders/y4/58ztr84x6db8cy20vnc5n9f80000gn/T/ipykernel_91513/2826007780.py\", line 2, in keep_columns\n",
      "AttributeError: 'numpy.ndarray' object has no attribute 'drop'\n",
      "\n",
      "  warnings.warn(\"Estimator fit failed. The score on this train-test\"\n",
      "/opt/anaconda3/envs/data1030/lib/python3.9/site-packages/sklearn/model_selection/_validation.py:615: FitFailedWarning: Estimator fit failed. The score on this train-test partition for these parameters will be set to nan. Details: \n",
      "Traceback (most recent call last):\n",
      "  File \"/opt/anaconda3/envs/data1030/lib/python3.9/site-packages/sklearn/model_selection/_validation.py\", line 598, in _fit_and_score\n",
      "    estimator.fit(X_train, y_train, **fit_params)\n",
      "  File \"/opt/anaconda3/envs/data1030/lib/python3.9/site-packages/sklearn/pipeline.py\", line 341, in fit\n",
      "    Xt = self._fit(X, y, **fit_params_steps)\n",
      "  File \"/opt/anaconda3/envs/data1030/lib/python3.9/site-packages/sklearn/pipeline.py\", line 303, in _fit\n",
      "    X, fitted_transformer = fit_transform_one_cached(\n",
      "  File \"/opt/anaconda3/envs/data1030/lib/python3.9/site-packages/joblib/memory.py\", line 352, in __call__\n",
      "    return self.func(*args, **kwargs)\n",
      "  File \"/opt/anaconda3/envs/data1030/lib/python3.9/site-packages/sklearn/pipeline.py\", line 754, in _fit_transform_one\n",
      "    res = transformer.fit_transform(X, y, **fit_params)\n",
      "  File \"/opt/anaconda3/envs/data1030/lib/python3.9/site-packages/sklearn/base.py\", line 702, in fit_transform\n",
      "    return self.fit(X, y, **fit_params).transform(X)\n",
      "  File \"/opt/anaconda3/envs/data1030/lib/python3.9/site-packages/sklearn/preprocessing/_function_transformer.py\", line 147, in transform\n",
      "    return self._transform(X, func=self.func, kw_args=self.kw_args)\n",
      "  File \"/opt/anaconda3/envs/data1030/lib/python3.9/site-packages/sklearn/preprocessing/_function_transformer.py\", line 171, in _transform\n",
      "    return func(X, **(kw_args if kw_args else {}))\n",
      "  File \"/var/folders/y4/58ztr84x6db8cy20vnc5n9f80000gn/T/ipykernel_91513/2826007780.py\", line 2, in keep_columns\n",
      "AttributeError: 'numpy.ndarray' object has no attribute 'drop'\n",
      "\n",
      "  warnings.warn(\"Estimator fit failed. The score on this train-test\"\n",
      "/opt/anaconda3/envs/data1030/lib/python3.9/site-packages/sklearn/model_selection/_validation.py:615: FitFailedWarning: Estimator fit failed. The score on this train-test partition for these parameters will be set to nan. Details: \n",
      "Traceback (most recent call last):\n",
      "  File \"/opt/anaconda3/envs/data1030/lib/python3.9/site-packages/sklearn/model_selection/_validation.py\", line 598, in _fit_and_score\n",
      "    estimator.fit(X_train, y_train, **fit_params)\n",
      "  File \"/opt/anaconda3/envs/data1030/lib/python3.9/site-packages/sklearn/pipeline.py\", line 341, in fit\n",
      "    Xt = self._fit(X, y, **fit_params_steps)\n",
      "  File \"/opt/anaconda3/envs/data1030/lib/python3.9/site-packages/sklearn/pipeline.py\", line 303, in _fit\n",
      "    X, fitted_transformer = fit_transform_one_cached(\n",
      "  File \"/opt/anaconda3/envs/data1030/lib/python3.9/site-packages/joblib/memory.py\", line 352, in __call__\n",
      "    return self.func(*args, **kwargs)\n",
      "  File \"/opt/anaconda3/envs/data1030/lib/python3.9/site-packages/sklearn/pipeline.py\", line 754, in _fit_transform_one\n",
      "    res = transformer.fit_transform(X, y, **fit_params)\n",
      "  File \"/opt/anaconda3/envs/data1030/lib/python3.9/site-packages/sklearn/base.py\", line 702, in fit_transform\n",
      "    return self.fit(X, y, **fit_params).transform(X)\n",
      "  File \"/opt/anaconda3/envs/data1030/lib/python3.9/site-packages/sklearn/preprocessing/_function_transformer.py\", line 147, in transform\n",
      "    return self._transform(X, func=self.func, kw_args=self.kw_args)\n",
      "  File \"/opt/anaconda3/envs/data1030/lib/python3.9/site-packages/sklearn/preprocessing/_function_transformer.py\", line 171, in _transform\n",
      "    return func(X, **(kw_args if kw_args else {}))\n",
      "  File \"/var/folders/y4/58ztr84x6db8cy20vnc5n9f80000gn/T/ipykernel_91513/2826007780.py\", line 2, in keep_columns\n",
      "AttributeError: 'numpy.ndarray' object has no attribute 'drop'\n",
      "\n",
      "  warnings.warn(\"Estimator fit failed. The score on this train-test\"\n",
      "/opt/anaconda3/envs/data1030/lib/python3.9/site-packages/sklearn/model_selection/_validation.py:615: FitFailedWarning: Estimator fit failed. The score on this train-test partition for these parameters will be set to nan. Details: \n",
      "Traceback (most recent call last):\n",
      "  File \"/opt/anaconda3/envs/data1030/lib/python3.9/site-packages/sklearn/model_selection/_validation.py\", line 598, in _fit_and_score\n",
      "    estimator.fit(X_train, y_train, **fit_params)\n",
      "  File \"/opt/anaconda3/envs/data1030/lib/python3.9/site-packages/sklearn/pipeline.py\", line 341, in fit\n",
      "    Xt = self._fit(X, y, **fit_params_steps)\n",
      "  File \"/opt/anaconda3/envs/data1030/lib/python3.9/site-packages/sklearn/pipeline.py\", line 303, in _fit\n",
      "    X, fitted_transformer = fit_transform_one_cached(\n",
      "  File \"/opt/anaconda3/envs/data1030/lib/python3.9/site-packages/joblib/memory.py\", line 352, in __call__\n",
      "    return self.func(*args, **kwargs)\n",
      "  File \"/opt/anaconda3/envs/data1030/lib/python3.9/site-packages/sklearn/pipeline.py\", line 754, in _fit_transform_one\n",
      "    res = transformer.fit_transform(X, y, **fit_params)\n",
      "  File \"/opt/anaconda3/envs/data1030/lib/python3.9/site-packages/sklearn/base.py\", line 702, in fit_transform\n",
      "    return self.fit(X, y, **fit_params).transform(X)\n",
      "  File \"/opt/anaconda3/envs/data1030/lib/python3.9/site-packages/sklearn/preprocessing/_function_transformer.py\", line 147, in transform\n",
      "    return self._transform(X, func=self.func, kw_args=self.kw_args)\n",
      "  File \"/opt/anaconda3/envs/data1030/lib/python3.9/site-packages/sklearn/preprocessing/_function_transformer.py\", line 171, in _transform\n",
      "    return func(X, **(kw_args if kw_args else {}))\n",
      "  File \"/var/folders/y4/58ztr84x6db8cy20vnc5n9f80000gn/T/ipykernel_91513/2826007780.py\", line 2, in keep_columns\n",
      "AttributeError: 'numpy.ndarray' object has no attribute 'drop'\n",
      "\n",
      "  warnings.warn(\"Estimator fit failed. The score on this train-test\"\n",
      "/opt/anaconda3/envs/data1030/lib/python3.9/site-packages/sklearn/model_selection/_validation.py:615: FitFailedWarning: Estimator fit failed. The score on this train-test partition for these parameters will be set to nan. Details: \n",
      "Traceback (most recent call last):\n",
      "  File \"/opt/anaconda3/envs/data1030/lib/python3.9/site-packages/sklearn/model_selection/_validation.py\", line 598, in _fit_and_score\n",
      "    estimator.fit(X_train, y_train, **fit_params)\n",
      "  File \"/opt/anaconda3/envs/data1030/lib/python3.9/site-packages/sklearn/pipeline.py\", line 341, in fit\n",
      "    Xt = self._fit(X, y, **fit_params_steps)\n",
      "  File \"/opt/anaconda3/envs/data1030/lib/python3.9/site-packages/sklearn/pipeline.py\", line 303, in _fit\n",
      "    X, fitted_transformer = fit_transform_one_cached(\n",
      "  File \"/opt/anaconda3/envs/data1030/lib/python3.9/site-packages/joblib/memory.py\", line 352, in __call__\n",
      "    return self.func(*args, **kwargs)\n",
      "  File \"/opt/anaconda3/envs/data1030/lib/python3.9/site-packages/sklearn/pipeline.py\", line 754, in _fit_transform_one\n",
      "    res = transformer.fit_transform(X, y, **fit_params)\n",
      "  File \"/opt/anaconda3/envs/data1030/lib/python3.9/site-packages/sklearn/base.py\", line 702, in fit_transform\n",
      "    return self.fit(X, y, **fit_params).transform(X)\n",
      "  File \"/opt/anaconda3/envs/data1030/lib/python3.9/site-packages/sklearn/preprocessing/_function_transformer.py\", line 147, in transform\n",
      "    return self._transform(X, func=self.func, kw_args=self.kw_args)\n",
      "  File \"/opt/anaconda3/envs/data1030/lib/python3.9/site-packages/sklearn/preprocessing/_function_transformer.py\", line 171, in _transform\n",
      "    return func(X, **(kw_args if kw_args else {}))\n",
      "  File \"/var/folders/y4/58ztr84x6db8cy20vnc5n9f80000gn/T/ipykernel_91513/2826007780.py\", line 2, in keep_columns\n",
      "AttributeError: 'numpy.ndarray' object has no attribute 'drop'\n",
      "\n",
      "  warnings.warn(\"Estimator fit failed. The score on this train-test\"\n",
      "/opt/anaconda3/envs/data1030/lib/python3.9/site-packages/sklearn/model_selection/_validation.py:615: FitFailedWarning: Estimator fit failed. The score on this train-test partition for these parameters will be set to nan. Details: \n",
      "Traceback (most recent call last):\n",
      "  File \"/opt/anaconda3/envs/data1030/lib/python3.9/site-packages/sklearn/model_selection/_validation.py\", line 598, in _fit_and_score\n",
      "    estimator.fit(X_train, y_train, **fit_params)\n",
      "  File \"/opt/anaconda3/envs/data1030/lib/python3.9/site-packages/sklearn/pipeline.py\", line 341, in fit\n",
      "    Xt = self._fit(X, y, **fit_params_steps)\n",
      "  File \"/opt/anaconda3/envs/data1030/lib/python3.9/site-packages/sklearn/pipeline.py\", line 303, in _fit\n",
      "    X, fitted_transformer = fit_transform_one_cached(\n",
      "  File \"/opt/anaconda3/envs/data1030/lib/python3.9/site-packages/joblib/memory.py\", line 352, in __call__\n",
      "    return self.func(*args, **kwargs)\n",
      "  File \"/opt/anaconda3/envs/data1030/lib/python3.9/site-packages/sklearn/pipeline.py\", line 754, in _fit_transform_one\n",
      "    res = transformer.fit_transform(X, y, **fit_params)\n",
      "  File \"/opt/anaconda3/envs/data1030/lib/python3.9/site-packages/sklearn/base.py\", line 702, in fit_transform\n",
      "    return self.fit(X, y, **fit_params).transform(X)\n",
      "  File \"/opt/anaconda3/envs/data1030/lib/python3.9/site-packages/sklearn/preprocessing/_function_transformer.py\", line 147, in transform\n",
      "    return self._transform(X, func=self.func, kw_args=self.kw_args)\n",
      "  File \"/opt/anaconda3/envs/data1030/lib/python3.9/site-packages/sklearn/preprocessing/_function_transformer.py\", line 171, in _transform\n",
      "    return func(X, **(kw_args if kw_args else {}))\n",
      "  File \"/var/folders/y4/58ztr84x6db8cy20vnc5n9f80000gn/T/ipykernel_91513/2826007780.py\", line 2, in keep_columns\n",
      "AttributeError: 'numpy.ndarray' object has no attribute 'drop'\n",
      "\n",
      "  warnings.warn(\"Estimator fit failed. The score on this train-test\"\n",
      "/opt/anaconda3/envs/data1030/lib/python3.9/site-packages/sklearn/model_selection/_validation.py:615: FitFailedWarning: Estimator fit failed. The score on this train-test partition for these parameters will be set to nan. Details: \n",
      "Traceback (most recent call last):\n",
      "  File \"/opt/anaconda3/envs/data1030/lib/python3.9/site-packages/sklearn/model_selection/_validation.py\", line 598, in _fit_and_score\n",
      "    estimator.fit(X_train, y_train, **fit_params)\n",
      "  File \"/opt/anaconda3/envs/data1030/lib/python3.9/site-packages/sklearn/pipeline.py\", line 341, in fit\n",
      "    Xt = self._fit(X, y, **fit_params_steps)\n",
      "  File \"/opt/anaconda3/envs/data1030/lib/python3.9/site-packages/sklearn/pipeline.py\", line 303, in _fit\n",
      "    X, fitted_transformer = fit_transform_one_cached(\n",
      "  File \"/opt/anaconda3/envs/data1030/lib/python3.9/site-packages/joblib/memory.py\", line 352, in __call__\n",
      "    return self.func(*args, **kwargs)\n",
      "  File \"/opt/anaconda3/envs/data1030/lib/python3.9/site-packages/sklearn/pipeline.py\", line 754, in _fit_transform_one\n",
      "    res = transformer.fit_transform(X, y, **fit_params)\n",
      "  File \"/opt/anaconda3/envs/data1030/lib/python3.9/site-packages/sklearn/base.py\", line 702, in fit_transform\n",
      "    return self.fit(X, y, **fit_params).transform(X)\n",
      "  File \"/opt/anaconda3/envs/data1030/lib/python3.9/site-packages/sklearn/preprocessing/_function_transformer.py\", line 147, in transform\n",
      "    return self._transform(X, func=self.func, kw_args=self.kw_args)\n",
      "  File \"/opt/anaconda3/envs/data1030/lib/python3.9/site-packages/sklearn/preprocessing/_function_transformer.py\", line 171, in _transform\n",
      "    return func(X, **(kw_args if kw_args else {}))\n",
      "  File \"/var/folders/y4/58ztr84x6db8cy20vnc5n9f80000gn/T/ipykernel_91513/2826007780.py\", line 2, in keep_columns\n",
      "AttributeError: 'numpy.ndarray' object has no attribute 'drop'\n",
      "\n",
      "  warnings.warn(\"Estimator fit failed. The score on this train-test\"\n",
      "/opt/anaconda3/envs/data1030/lib/python3.9/site-packages/sklearn/model_selection/_validation.py:615: FitFailedWarning: Estimator fit failed. The score on this train-test partition for these parameters will be set to nan. Details: \n",
      "Traceback (most recent call last):\n",
      "  File \"/opt/anaconda3/envs/data1030/lib/python3.9/site-packages/sklearn/model_selection/_validation.py\", line 598, in _fit_and_score\n",
      "    estimator.fit(X_train, y_train, **fit_params)\n",
      "  File \"/opt/anaconda3/envs/data1030/lib/python3.9/site-packages/sklearn/pipeline.py\", line 341, in fit\n",
      "    Xt = self._fit(X, y, **fit_params_steps)\n",
      "  File \"/opt/anaconda3/envs/data1030/lib/python3.9/site-packages/sklearn/pipeline.py\", line 303, in _fit\n",
      "    X, fitted_transformer = fit_transform_one_cached(\n",
      "  File \"/opt/anaconda3/envs/data1030/lib/python3.9/site-packages/joblib/memory.py\", line 352, in __call__\n",
      "    return self.func(*args, **kwargs)\n",
      "  File \"/opt/anaconda3/envs/data1030/lib/python3.9/site-packages/sklearn/pipeline.py\", line 754, in _fit_transform_one\n",
      "    res = transformer.fit_transform(X, y, **fit_params)\n",
      "  File \"/opt/anaconda3/envs/data1030/lib/python3.9/site-packages/sklearn/base.py\", line 702, in fit_transform\n",
      "    return self.fit(X, y, **fit_params).transform(X)\n",
      "  File \"/opt/anaconda3/envs/data1030/lib/python3.9/site-packages/sklearn/preprocessing/_function_transformer.py\", line 147, in transform\n",
      "    return self._transform(X, func=self.func, kw_args=self.kw_args)\n",
      "  File \"/opt/anaconda3/envs/data1030/lib/python3.9/site-packages/sklearn/preprocessing/_function_transformer.py\", line 171, in _transform\n",
      "    return func(X, **(kw_args if kw_args else {}))\n",
      "  File \"/var/folders/y4/58ztr84x6db8cy20vnc5n9f80000gn/T/ipykernel_91513/2826007780.py\", line 2, in keep_columns\n",
      "AttributeError: 'numpy.ndarray' object has no attribute 'drop'\n",
      "\n",
      "  warnings.warn(\"Estimator fit failed. The score on this train-test\"\n",
      "/opt/anaconda3/envs/data1030/lib/python3.9/site-packages/sklearn/model_selection/_validation.py:615: FitFailedWarning: Estimator fit failed. The score on this train-test partition for these parameters will be set to nan. Details: \n",
      "Traceback (most recent call last):\n",
      "  File \"/opt/anaconda3/envs/data1030/lib/python3.9/site-packages/sklearn/model_selection/_validation.py\", line 598, in _fit_and_score\n",
      "    estimator.fit(X_train, y_train, **fit_params)\n",
      "  File \"/opt/anaconda3/envs/data1030/lib/python3.9/site-packages/sklearn/pipeline.py\", line 341, in fit\n",
      "    Xt = self._fit(X, y, **fit_params_steps)\n",
      "  File \"/opt/anaconda3/envs/data1030/lib/python3.9/site-packages/sklearn/pipeline.py\", line 303, in _fit\n",
      "    X, fitted_transformer = fit_transform_one_cached(\n",
      "  File \"/opt/anaconda3/envs/data1030/lib/python3.9/site-packages/joblib/memory.py\", line 352, in __call__\n",
      "    return self.func(*args, **kwargs)\n",
      "  File \"/opt/anaconda3/envs/data1030/lib/python3.9/site-packages/sklearn/pipeline.py\", line 754, in _fit_transform_one\n",
      "    res = transformer.fit_transform(X, y, **fit_params)\n",
      "  File \"/opt/anaconda3/envs/data1030/lib/python3.9/site-packages/sklearn/base.py\", line 702, in fit_transform\n",
      "    return self.fit(X, y, **fit_params).transform(X)\n",
      "  File \"/opt/anaconda3/envs/data1030/lib/python3.9/site-packages/sklearn/preprocessing/_function_transformer.py\", line 147, in transform\n",
      "    return self._transform(X, func=self.func, kw_args=self.kw_args)\n",
      "  File \"/opt/anaconda3/envs/data1030/lib/python3.9/site-packages/sklearn/preprocessing/_function_transformer.py\", line 171, in _transform\n",
      "    return func(X, **(kw_args if kw_args else {}))\n",
      "  File \"/var/folders/y4/58ztr84x6db8cy20vnc5n9f80000gn/T/ipykernel_91513/2826007780.py\", line 2, in keep_columns\n",
      "AttributeError: 'numpy.ndarray' object has no attribute 'drop'\n",
      "\n",
      "  warnings.warn(\"Estimator fit failed. The score on this train-test\"\n",
      "/opt/anaconda3/envs/data1030/lib/python3.9/site-packages/sklearn/model_selection/_validation.py:615: FitFailedWarning: Estimator fit failed. The score on this train-test partition for these parameters will be set to nan. Details: \n",
      "Traceback (most recent call last):\n",
      "  File \"/opt/anaconda3/envs/data1030/lib/python3.9/site-packages/sklearn/model_selection/_validation.py\", line 598, in _fit_and_score\n",
      "    estimator.fit(X_train, y_train, **fit_params)\n",
      "  File \"/opt/anaconda3/envs/data1030/lib/python3.9/site-packages/sklearn/pipeline.py\", line 341, in fit\n",
      "    Xt = self._fit(X, y, **fit_params_steps)\n",
      "  File \"/opt/anaconda3/envs/data1030/lib/python3.9/site-packages/sklearn/pipeline.py\", line 303, in _fit\n",
      "    X, fitted_transformer = fit_transform_one_cached(\n",
      "  File \"/opt/anaconda3/envs/data1030/lib/python3.9/site-packages/joblib/memory.py\", line 352, in __call__\n",
      "    return self.func(*args, **kwargs)\n",
      "  File \"/opt/anaconda3/envs/data1030/lib/python3.9/site-packages/sklearn/pipeline.py\", line 754, in _fit_transform_one\n",
      "    res = transformer.fit_transform(X, y, **fit_params)\n",
      "  File \"/opt/anaconda3/envs/data1030/lib/python3.9/site-packages/sklearn/base.py\", line 702, in fit_transform\n",
      "    return self.fit(X, y, **fit_params).transform(X)\n",
      "  File \"/opt/anaconda3/envs/data1030/lib/python3.9/site-packages/sklearn/preprocessing/_function_transformer.py\", line 147, in transform\n",
      "    return self._transform(X, func=self.func, kw_args=self.kw_args)\n",
      "  File \"/opt/anaconda3/envs/data1030/lib/python3.9/site-packages/sklearn/preprocessing/_function_transformer.py\", line 171, in _transform\n",
      "    return func(X, **(kw_args if kw_args else {}))\n",
      "  File \"/var/folders/y4/58ztr84x6db8cy20vnc5n9f80000gn/T/ipykernel_91513/2826007780.py\", line 2, in keep_columns\n",
      "AttributeError: 'numpy.ndarray' object has no attribute 'drop'\n",
      "\n",
      "  warnings.warn(\"Estimator fit failed. The score on this train-test\"\n",
      "/opt/anaconda3/envs/data1030/lib/python3.9/site-packages/sklearn/model_selection/_validation.py:615: FitFailedWarning: Estimator fit failed. The score on this train-test partition for these parameters will be set to nan. Details: \n",
      "Traceback (most recent call last):\n",
      "  File \"/opt/anaconda3/envs/data1030/lib/python3.9/site-packages/sklearn/model_selection/_validation.py\", line 598, in _fit_and_score\n",
      "    estimator.fit(X_train, y_train, **fit_params)\n",
      "  File \"/opt/anaconda3/envs/data1030/lib/python3.9/site-packages/sklearn/pipeline.py\", line 341, in fit\n",
      "    Xt = self._fit(X, y, **fit_params_steps)\n",
      "  File \"/opt/anaconda3/envs/data1030/lib/python3.9/site-packages/sklearn/pipeline.py\", line 303, in _fit\n",
      "    X, fitted_transformer = fit_transform_one_cached(\n",
      "  File \"/opt/anaconda3/envs/data1030/lib/python3.9/site-packages/joblib/memory.py\", line 352, in __call__\n",
      "    return self.func(*args, **kwargs)\n",
      "  File \"/opt/anaconda3/envs/data1030/lib/python3.9/site-packages/sklearn/pipeline.py\", line 754, in _fit_transform_one\n",
      "    res = transformer.fit_transform(X, y, **fit_params)\n",
      "  File \"/opt/anaconda3/envs/data1030/lib/python3.9/site-packages/sklearn/base.py\", line 702, in fit_transform\n",
      "    return self.fit(X, y, **fit_params).transform(X)\n",
      "  File \"/opt/anaconda3/envs/data1030/lib/python3.9/site-packages/sklearn/preprocessing/_function_transformer.py\", line 147, in transform\n",
      "    return self._transform(X, func=self.func, kw_args=self.kw_args)\n",
      "  File \"/opt/anaconda3/envs/data1030/lib/python3.9/site-packages/sklearn/preprocessing/_function_transformer.py\", line 171, in _transform\n",
      "    return func(X, **(kw_args if kw_args else {}))\n",
      "  File \"/var/folders/y4/58ztr84x6db8cy20vnc5n9f80000gn/T/ipykernel_91513/2826007780.py\", line 2, in keep_columns\n",
      "AttributeError: 'numpy.ndarray' object has no attribute 'drop'\n",
      "\n",
      "  warnings.warn(\"Estimator fit failed. The score on this train-test\"\n"
     ]
    },
    {
     "ename": "NotFittedError",
     "evalue": "All estimators failed to fit",
     "output_type": "error",
     "traceback": [
      "\u001b[0;31m---------------------------------------------------------------------------\u001b[0m",
      "\u001b[0;31mNotFittedError\u001b[0m                            Traceback (most recent call last)",
      "\u001b[0;32m/var/folders/y4/58ztr84x6db8cy20vnc5n9f80000gn/T/ipykernel_91513/746893862.py\u001b[0m in \u001b[0;36m<module>\u001b[0;34m\u001b[0m\n\u001b[1;32m      4\u001b[0m \u001b[0malpha\u001b[0m \u001b[0;34m=\u001b[0m \u001b[0;34m[\u001b[0m\u001b[0;36m1e-2\u001b[0m\u001b[0;34m,\u001b[0m \u001b[0;36m1e-1\u001b[0m\u001b[0;34m,\u001b[0m \u001b[0;36m1e0\u001b[0m\u001b[0;34m,\u001b[0m \u001b[0;36m1e1\u001b[0m\u001b[0;34m,\u001b[0m \u001b[0;36m1e2\u001b[0m\u001b[0;34m]\u001b[0m\u001b[0;34m\u001b[0m\u001b[0;34m\u001b[0m\u001b[0m\n\u001b[1;32m      5\u001b[0m \u001b[0mparam_grid\u001b[0m \u001b[0;34m=\u001b[0m \u001b[0;34m{\u001b[0m\u001b[0;34m\"regressor__alpha\"\u001b[0m\u001b[0;34m:\u001b[0m \u001b[0malpha\u001b[0m\u001b[0;34m}\u001b[0m\u001b[0;34m\u001b[0m\u001b[0;34m\u001b[0m\u001b[0m\n\u001b[0;32m----> 6\u001b[0;31m \u001b[0mmodels\u001b[0m\u001b[0;34m,\u001b[0m \u001b[0mscores\u001b[0m \u001b[0;34m=\u001b[0m \u001b[0mMLpipe_strKFold_RMSE\u001b[0m\u001b[0;34m(\u001b[0m\u001b[0mX\u001b[0m\u001b[0;34m.\u001b[0m\u001b[0miloc\u001b[0m\u001b[0;34m[\u001b[0m\u001b[0;36m1\u001b[0m\u001b[0;34m:\u001b[0m\u001b[0;36m500\u001b[0m\u001b[0;34m,\u001b[0m\u001b[0;34m]\u001b[0m\u001b[0;34m,\u001b[0m \u001b[0my\u001b[0m\u001b[0;34m[\u001b[0m\u001b[0;36m1\u001b[0m\u001b[0;34m:\u001b[0m\u001b[0;36m500\u001b[0m\u001b[0;34m]\u001b[0m\u001b[0;34m,\u001b[0m \u001b[0mpreprocessor\u001b[0m\u001b[0;34m,\u001b[0m \u001b[0mregressor\u001b[0m\u001b[0;34m,\u001b[0m \u001b[0mparam_grid\u001b[0m\u001b[0;34m,\u001b[0m \u001b[0mdf\u001b[0m\u001b[0;34m[\u001b[0m\u001b[0;34m\"Grp_LogSalePrice\"\u001b[0m\u001b[0;34m]\u001b[0m\u001b[0;34m[\u001b[0m\u001b[0;36m1\u001b[0m\u001b[0;34m:\u001b[0m\u001b[0;36m500\u001b[0m\u001b[0;34m]\u001b[0m\u001b[0;34m,\u001b[0m \u001b[0;36m4\u001b[0m\u001b[0;34m)\u001b[0m\u001b[0;34m\u001b[0m\u001b[0;34m\u001b[0m\u001b[0m\n\u001b[0m",
      "\u001b[0;32m/var/folders/y4/58ztr84x6db8cy20vnc5n9f80000gn/T/ipykernel_91513/3466996831.py\u001b[0m in \u001b[0;36mMLpipe_strKFold_RMSE\u001b[0;34m(X, y, preprocessor, ML_algo, parameter_grid, strati_tar, num_folds)\u001b[0m\n\u001b[1;32m     21\u001b[0m                            \u001b[0mscoring\u001b[0m \u001b[0;34m=\u001b[0m \u001b[0mmake_scorer\u001b[0m\u001b[0;34m(\u001b[0m\u001b[0mmean_squared_error\u001b[0m\u001b[0;34m,\u001b[0m \u001b[0mgreater_is_better\u001b[0m \u001b[0;34m=\u001b[0m \u001b[0;32mFalse\u001b[0m\u001b[0;34m,\u001b[0m \u001b[0msquared\u001b[0m \u001b[0;34m=\u001b[0m \u001b[0;32mFalse\u001b[0m\u001b[0;34m)\u001b[0m\u001b[0;34m,\u001b[0m\u001b[0;34m\u001b[0m\u001b[0;34m\u001b[0m\u001b[0m\n\u001b[1;32m     22\u001b[0m                            cv = kf, return_train_score = True, n_jobs = -1, verbose = False)\n\u001b[0;32m---> 23\u001b[0;31m         \u001b[0mgrid\u001b[0m\u001b[0;34m.\u001b[0m\u001b[0mfit\u001b[0m\u001b[0;34m(\u001b[0m\u001b[0mX_other\u001b[0m\u001b[0;34m,\u001b[0m \u001b[0my_other\u001b[0m\u001b[0;34m)\u001b[0m\u001b[0;34m\u001b[0m\u001b[0;34m\u001b[0m\u001b[0m\n\u001b[0m\u001b[1;32m     24\u001b[0m         \u001b[0mpredictions\u001b[0m \u001b[0;34m=\u001b[0m \u001b[0mgrid\u001b[0m\u001b[0;34m.\u001b[0m\u001b[0mpredict\u001b[0m\u001b[0;34m(\u001b[0m\u001b[0mX_test\u001b[0m\u001b[0;34m)\u001b[0m\u001b[0;34m\u001b[0m\u001b[0;34m\u001b[0m\u001b[0m\n\u001b[1;32m     25\u001b[0m         \u001b[0mbest_model\u001b[0m \u001b[0;34m=\u001b[0m \u001b[0mgrid\u001b[0m\u001b[0;34m.\u001b[0m\u001b[0mbest_params_\u001b[0m\u001b[0;34m\u001b[0m\u001b[0;34m\u001b[0m\u001b[0m\n",
      "\u001b[0;32m/opt/anaconda3/envs/data1030/lib/python3.9/site-packages/sklearn/utils/validation.py\u001b[0m in \u001b[0;36minner_f\u001b[0;34m(*args, **kwargs)\u001b[0m\n\u001b[1;32m     61\u001b[0m             \u001b[0mextra_args\u001b[0m \u001b[0;34m=\u001b[0m \u001b[0mlen\u001b[0m\u001b[0;34m(\u001b[0m\u001b[0margs\u001b[0m\u001b[0;34m)\u001b[0m \u001b[0;34m-\u001b[0m \u001b[0mlen\u001b[0m\u001b[0;34m(\u001b[0m\u001b[0mall_args\u001b[0m\u001b[0;34m)\u001b[0m\u001b[0;34m\u001b[0m\u001b[0;34m\u001b[0m\u001b[0m\n\u001b[1;32m     62\u001b[0m             \u001b[0;32mif\u001b[0m \u001b[0mextra_args\u001b[0m \u001b[0;34m<=\u001b[0m \u001b[0;36m0\u001b[0m\u001b[0;34m:\u001b[0m\u001b[0;34m\u001b[0m\u001b[0;34m\u001b[0m\u001b[0m\n\u001b[0;32m---> 63\u001b[0;31m                 \u001b[0;32mreturn\u001b[0m \u001b[0mf\u001b[0m\u001b[0;34m(\u001b[0m\u001b[0;34m*\u001b[0m\u001b[0margs\u001b[0m\u001b[0;34m,\u001b[0m \u001b[0;34m**\u001b[0m\u001b[0mkwargs\u001b[0m\u001b[0;34m)\u001b[0m\u001b[0;34m\u001b[0m\u001b[0;34m\u001b[0m\u001b[0m\n\u001b[0m\u001b[1;32m     64\u001b[0m \u001b[0;34m\u001b[0m\u001b[0m\n\u001b[1;32m     65\u001b[0m             \u001b[0;31m# extra_args > 0\u001b[0m\u001b[0;34m\u001b[0m\u001b[0;34m\u001b[0m\u001b[0m\n",
      "\u001b[0;32m/opt/anaconda3/envs/data1030/lib/python3.9/site-packages/sklearn/model_selection/_search.py\u001b[0m in \u001b[0;36mfit\u001b[0;34m(self, X, y, groups, **fit_params)\u001b[0m\n\u001b[1;32m    839\u001b[0m                 \u001b[0;32mreturn\u001b[0m \u001b[0mresults\u001b[0m\u001b[0;34m\u001b[0m\u001b[0;34m\u001b[0m\u001b[0m\n\u001b[1;32m    840\u001b[0m \u001b[0;34m\u001b[0m\u001b[0m\n\u001b[0;32m--> 841\u001b[0;31m             \u001b[0mself\u001b[0m\u001b[0;34m.\u001b[0m\u001b[0m_run_search\u001b[0m\u001b[0;34m(\u001b[0m\u001b[0mevaluate_candidates\u001b[0m\u001b[0;34m)\u001b[0m\u001b[0;34m\u001b[0m\u001b[0;34m\u001b[0m\u001b[0m\n\u001b[0m\u001b[1;32m    842\u001b[0m \u001b[0;34m\u001b[0m\u001b[0m\n\u001b[1;32m    843\u001b[0m             \u001b[0;31m# multimetric is determined here because in the case of a callable\u001b[0m\u001b[0;34m\u001b[0m\u001b[0;34m\u001b[0m\u001b[0m\n",
      "\u001b[0;32m/opt/anaconda3/envs/data1030/lib/python3.9/site-packages/sklearn/model_selection/_search.py\u001b[0m in \u001b[0;36m_run_search\u001b[0;34m(self, evaluate_candidates)\u001b[0m\n\u001b[1;32m   1294\u001b[0m     \u001b[0;32mdef\u001b[0m \u001b[0m_run_search\u001b[0m\u001b[0;34m(\u001b[0m\u001b[0mself\u001b[0m\u001b[0;34m,\u001b[0m \u001b[0mevaluate_candidates\u001b[0m\u001b[0;34m)\u001b[0m\u001b[0;34m:\u001b[0m\u001b[0;34m\u001b[0m\u001b[0;34m\u001b[0m\u001b[0m\n\u001b[1;32m   1295\u001b[0m         \u001b[0;34m\"\"\"Search all candidates in param_grid\"\"\"\u001b[0m\u001b[0;34m\u001b[0m\u001b[0;34m\u001b[0m\u001b[0m\n\u001b[0;32m-> 1296\u001b[0;31m         \u001b[0mevaluate_candidates\u001b[0m\u001b[0;34m(\u001b[0m\u001b[0mParameterGrid\u001b[0m\u001b[0;34m(\u001b[0m\u001b[0mself\u001b[0m\u001b[0;34m.\u001b[0m\u001b[0mparam_grid\u001b[0m\u001b[0;34m)\u001b[0m\u001b[0;34m)\u001b[0m\u001b[0;34m\u001b[0m\u001b[0;34m\u001b[0m\u001b[0m\n\u001b[0m\u001b[1;32m   1297\u001b[0m \u001b[0;34m\u001b[0m\u001b[0m\n\u001b[1;32m   1298\u001b[0m \u001b[0;34m\u001b[0m\u001b[0m\n",
      "\u001b[0;32m/opt/anaconda3/envs/data1030/lib/python3.9/site-packages/sklearn/model_selection/_search.py\u001b[0m in \u001b[0;36mevaluate_candidates\u001b[0;34m(candidate_params, cv, more_results)\u001b[0m\n\u001b[1;32m    825\u001b[0m                 \u001b[0;31m# of out will be done in `_insert_error_scores`.\u001b[0m\u001b[0;34m\u001b[0m\u001b[0;34m\u001b[0m\u001b[0m\n\u001b[1;32m    826\u001b[0m                 \u001b[0;32mif\u001b[0m \u001b[0mcallable\u001b[0m\u001b[0;34m(\u001b[0m\u001b[0mself\u001b[0m\u001b[0;34m.\u001b[0m\u001b[0mscoring\u001b[0m\u001b[0;34m)\u001b[0m\u001b[0;34m:\u001b[0m\u001b[0;34m\u001b[0m\u001b[0;34m\u001b[0m\u001b[0m\n\u001b[0;32m--> 827\u001b[0;31m                     \u001b[0m_insert_error_scores\u001b[0m\u001b[0;34m(\u001b[0m\u001b[0mout\u001b[0m\u001b[0;34m,\u001b[0m \u001b[0mself\u001b[0m\u001b[0;34m.\u001b[0m\u001b[0merror_score\u001b[0m\u001b[0;34m)\u001b[0m\u001b[0;34m\u001b[0m\u001b[0;34m\u001b[0m\u001b[0m\n\u001b[0m\u001b[1;32m    828\u001b[0m                 \u001b[0mall_candidate_params\u001b[0m\u001b[0;34m.\u001b[0m\u001b[0mextend\u001b[0m\u001b[0;34m(\u001b[0m\u001b[0mcandidate_params\u001b[0m\u001b[0;34m)\u001b[0m\u001b[0;34m\u001b[0m\u001b[0;34m\u001b[0m\u001b[0m\n\u001b[1;32m    829\u001b[0m                 \u001b[0mall_out\u001b[0m\u001b[0;34m.\u001b[0m\u001b[0mextend\u001b[0m\u001b[0;34m(\u001b[0m\u001b[0mout\u001b[0m\u001b[0;34m)\u001b[0m\u001b[0;34m\u001b[0m\u001b[0;34m\u001b[0m\u001b[0m\n",
      "\u001b[0;32m/opt/anaconda3/envs/data1030/lib/python3.9/site-packages/sklearn/model_selection/_validation.py\u001b[0m in \u001b[0;36m_insert_error_scores\u001b[0;34m(results, error_score)\u001b[0m\n\u001b[1;32m    299\u001b[0m \u001b[0;34m\u001b[0m\u001b[0m\n\u001b[1;32m    300\u001b[0m     \u001b[0;32mif\u001b[0m \u001b[0msuccessful_score\u001b[0m \u001b[0;32mis\u001b[0m \u001b[0;32mNone\u001b[0m\u001b[0;34m:\u001b[0m\u001b[0;34m\u001b[0m\u001b[0;34m\u001b[0m\u001b[0m\n\u001b[0;32m--> 301\u001b[0;31m         \u001b[0;32mraise\u001b[0m \u001b[0mNotFittedError\u001b[0m\u001b[0;34m(\u001b[0m\u001b[0;34m\"All estimators failed to fit\"\u001b[0m\u001b[0;34m)\u001b[0m\u001b[0;34m\u001b[0m\u001b[0;34m\u001b[0m\u001b[0m\n\u001b[0m\u001b[1;32m    302\u001b[0m \u001b[0;34m\u001b[0m\u001b[0m\n\u001b[1;32m    303\u001b[0m     \u001b[0;32mif\u001b[0m \u001b[0misinstance\u001b[0m\u001b[0;34m(\u001b[0m\u001b[0msuccessful_score\u001b[0m\u001b[0;34m,\u001b[0m \u001b[0mdict\u001b[0m\u001b[0;34m)\u001b[0m\u001b[0;34m:\u001b[0m\u001b[0;34m\u001b[0m\u001b[0;34m\u001b[0m\u001b[0m\n",
      "\u001b[0;31mNotFittedError\u001b[0m: All estimators failed to fit"
     ]
    }
   ],
   "source": [
    "from sklearn.linear_model import Lasso\n",
    "\n",
    "regressor = Lasso(max_iter=100000)\n",
    "alpha = [1e-2, 1e-1, 1e0, 1e1, 1e2]\n",
    "param_grid = {\"regressor__alpha\": alpha}\n",
    "models, scores = MLpipe_strKFold_RMSE(X.iloc[1:500,], y[1:500], preprocessor, regressor, param_grid, df[\"Grp_LogSalePrice\"][1:500], 4)\n"
   ]
  },
  {
   "cell_type": "code",
   "execution_count": 312,
   "id": "e31844bc",
   "metadata": {
    "scrolled": true
   },
   "outputs": [
    {
     "data": {
      "text/plain": [
       "[0.6422632233660511,\n",
       " 0.6380627618652492,\n",
       " 0.439123485265782,\n",
       " 0.6595142893198469,\n",
       " 0.795042589395531]"
      ]
     },
     "execution_count": 312,
     "metadata": {},
     "output_type": "execute_result"
    }
   ],
   "source": [
    "models\n",
    "scores"
   ]
  },
  {
   "cell_type": "markdown",
   "id": "33f58d69",
   "metadata": {},
   "source": [
    "#### RandomForestRegressor"
   ]
  },
  {
   "cell_type": "code",
   "execution_count": 237,
   "id": "f73e3677",
   "metadata": {},
   "outputs": [],
   "source": [
    "from sklearn.ensemble import RandomForestRegressor\n",
    "regressor = RandomForestRegressor()\n",
    "grid = {'regressor__n_estimators': list(np.arange(100, 1200, 100)),\n",
    "       'regressor__max_depth': list(np.arange(1, 10, 2))}\n",
    "models, scores = MLpipe_strKFold_RMSE(X.iloc[1:100,], y[1:100], preprocessor, regressor, grid, df[\"Grp_LogSalePrice\"][1:100], 4)"
   ]
  },
  {
   "cell_type": "code",
   "execution_count": 238,
   "id": "b01607ac",
   "metadata": {},
   "outputs": [
    {
     "data": {
      "text/plain": [
       "[{'regressor__max_depth': 9, 'regressor__n_estimators': 300},\n",
       " {'regressor__max_depth': 5, 'regressor__n_estimators': 300},\n",
       " {'regressor__max_depth': 7, 'regressor__n_estimators': 500},\n",
       " {'regressor__max_depth': 9, 'regressor__n_estimators': 300},\n",
       " {'regressor__max_depth': 5, 'regressor__n_estimators': 100}]"
      ]
     },
     "execution_count": 238,
     "metadata": {},
     "output_type": "execute_result"
    }
   ],
   "source": [
    "models"
   ]
  },
  {
   "cell_type": "code",
   "execution_count": 239,
   "id": "934a69a2",
   "metadata": {},
   "outputs": [
    {
     "data": {
      "text/plain": [
       "[0.5056951471395876,\n",
       " 0.5783670407844198,\n",
       " 0.7342831437925698,\n",
       " 1.874993593173462,\n",
       " 0.6262940782724713]"
      ]
     },
     "execution_count": 239,
     "metadata": {},
     "output_type": "execute_result"
    }
   ],
   "source": [
    "scores"
   ]
  },
  {
   "cell_type": "markdown",
   "id": "5fcc42e0",
   "metadata": {},
   "source": [
    "#### Ridge Regressor"
   ]
  },
  {
   "cell_type": "code",
   "execution_count": 76,
   "id": "2e6ad2e9",
   "metadata": {},
   "outputs": [
    {
     "name": "stdout",
     "output_type": "stream",
     "text": [
      "Fitting 4 folds for each of 5 candidates, totalling 20 fits\n",
      "Fitting 4 folds for each of 5 candidates, totalling 20 fits\n",
      "Fitting 4 folds for each of 5 candidates, totalling 20 fits\n",
      "Fitting 4 folds for each of 5 candidates, totalling 20 fits\n",
      "Fitting 4 folds for each of 5 candidates, totalling 20 fits\n"
     ]
    }
   ],
   "source": [
    "from sklearn.linear_model import Ridge\n",
    "regressor = Ridge(max_iter = 1000000)\n",
    "grid = {\"regressor__alpha\": alpha}\n",
    "models, scores = MLpipe_strKFold_RMSE(X.iloc[1:100,], y[1:100], preprocessor, regressor, grid, df[\"Grp_LogSalePrice\"][1:100], 4)"
   ]
  },
  {
   "cell_type": "code",
   "execution_count": 78,
   "id": "faf17d20",
   "metadata": {
    "scrolled": true
   },
   "outputs": [
    {
     "data": {
      "text/plain": [
       "[1.7134005181776035,\n",
       " 1.6560582432479631,\n",
       " 1.8895417090789517,\n",
       " 1.378560233630301,\n",
       " 1.8189448491330238]"
      ]
     },
     "execution_count": 78,
     "metadata": {},
     "output_type": "execute_result"
    }
   ],
   "source": [
    "scores"
   ]
  },
  {
   "cell_type": "markdown",
   "id": "041636c5",
   "metadata": {},
   "source": [
    "#### SVR"
   ]
  },
  {
   "cell_type": "code",
   "execution_count": 81,
   "id": "2d3cec89",
   "metadata": {},
   "outputs": [
    {
     "name": "stdout",
     "output_type": "stream",
     "text": [
      "Fitting 4 folds for each of 16 candidates, totalling 64 fits\n",
      "Fitting 4 folds for each of 16 candidates, totalling 64 fits\n",
      "Fitting 4 folds for each of 16 candidates, totalling 64 fits\n",
      "Fitting 4 folds for each of 16 candidates, totalling 64 fits\n",
      "Fitting 4 folds for each of 16 candidates, totalling 64 fits\n"
     ]
    }
   ],
   "source": [
    "from sklearn.svm import SVR\n",
    "regressor = SVR()\n",
    "grid = {'regressor__C': [1e-2, 1e-1, 1e1, 1e2],\n",
    "       'regressor__gamma': [1e-2, 1e-1, 1e1, 1e2]}\n",
    "models, scores = MLpipe_strKFold_RMSE(X.iloc[1:100,], y[1:100], preprocessor, regressor, grid, df[\"Grp_LogSalePrice\"][1:100], 4)"
   ]
  },
  {
   "cell_type": "code",
   "execution_count": 83,
   "id": "aafd9430",
   "metadata": {},
   "outputs": [
    {
     "data": {
      "text/plain": [
       "[2.53174590826996,\n",
       " 2.3714800625844306,\n",
       " 2.685314514815253,\n",
       " 1.8460288706525552,\n",
       " 2.7475722231750175]"
      ]
     },
     "execution_count": 83,
     "metadata": {},
     "output_type": "execute_result"
    }
   ],
   "source": [
    "scores"
   ]
  },
  {
   "cell_type": "code",
   "execution_count": 84,
   "id": "21e3ee7a",
   "metadata": {},
   "outputs": [],
   "source": [
    "preprocessor = ColumnTransformer(\n",
    "    transformers=[\n",
    "        ('onehot', OneHotEncoder(sparse=False,handle_unknown='ignore'), onehot_ftr),\n",
    "        ('minmax', MinMaxScaler(), maxmin_ftr),\n",
    "        ('std', StandardScaler(), std_ftr),\n",
    "        ('ord', OrdinalEncoder(categories = ord_cat), ord_ftr)])\n",
    "\n",
    "clf = Pipeline(steps=[('preprocessor', preprocessor)])\n",
    "\n",
    "X_train_prep = clf.fit_transform(folds[\"fold_1\"][\"X_training\"])\n",
    "X_val_prep = clf.transform(folds[\"fold_1\"][\"X_validation\"])\n",
    "X_test_prep = clf.transform(folds[\"fold_1\"][\"X_testing\"])"
   ]
  },
  {
   "cell_type": "code",
   "execution_count": 85,
   "id": "6ceaf614",
   "metadata": {},
   "outputs": [
    {
     "data": {
      "text/plain": [
       "(147449, 1375)"
      ]
     },
     "execution_count": 85,
     "metadata": {},
     "output_type": "execute_result"
    }
   ],
   "source": [
    "X_train_prep.shape"
   ]
  },
  {
   "cell_type": "code",
   "execution_count": 106,
   "id": "36f3efd1",
   "metadata": {},
   "outputs": [],
   "source": [
    "feature_names = list(preprocessor.named_transformers_['onehot'].get_feature_names(onehot_ftr)) + preprocessor.transformers_[1][-1] + \\\n",
    "preprocessor.transformers_[2][-1] + preprocessor.transformers_[3][-1]\n"
   ]
  },
  {
   "cell_type": "code",
   "execution_count": 110,
   "id": "9c0edebd",
   "metadata": {},
   "outputs": [],
   "source": [
    "df_X_train_prep = pd.DataFrame(data = X_train_prep, columns = feature_names)"
   ]
  },
  {
   "cell_type": "code",
   "execution_count": 302,
   "id": "b1d916df",
   "metadata": {},
   "outputs": [],
   "source": [
    "from sklearn.feature_selection import f_regression, SelectKBest, SelectPercentile, mutual_info_regression\n",
    "X = df.loc[:, ((df.columns != \"Grp_LogSalePrice\"))]\n",
    "X = X.drop(columns = no_need)\n",
    "y = df[\"LogSalePrice\"]\n",
    "\n",
    "preprocessor = ColumnTransformer(\n",
    "    transformers=[\n",
    "        ('onehot', OneHotEncoder(sparse=False,handle_unknown='ignore'), onehot_ftr),\n",
    "        ('minmax', MinMaxScaler(), maxmin_ftr),\n",
    "        ('std', StandardScaler(), std_ftr),\n",
    "        ('ord', OrdinalEncoder(categories = ord_cat), ord_ftr)])\n",
    "\n",
    "clf = Pipeline(steps=[('preprocessor', preprocessor)])\n",
    "\n",
    "\n",
    "original_prep = clf.fit_transform(X)\n",
    "feature_names = list(preprocessor.named_transformers_['onehot'].get_feature_names(onehot_ftr)) + preprocessor.transformers_[1][-1] + \\\n",
    "preprocessor.transformers_[2][-1] + preprocessor.transformers_[3][-1]\n",
    "df_original_prep = pd.DataFrame(data = original_prep, columns = feature_names)\n",
    "\n",
    "f_selector = SelectPercentile(f_regression, percentile = 66)\n",
    "f_selector.fit_transform(df_original_prep, y)\n",
    "f_sel_66per = list(np.array(feature_names)[(f_selector.get_support())])"
   ]
  },
  {
   "cell_type": "code",
   "execution_count": 345,
   "id": "d8dc84e5",
   "metadata": {},
   "outputs": [
    {
     "data": {
      "text/plain": [
       "911"
      ]
     },
     "execution_count": 345,
     "metadata": {},
     "output_type": "execute_result"
    }
   ],
   "source": [
    "len(f_sel_66per)"
   ]
  },
  {
   "cell_type": "code",
   "execution_count": 346,
   "id": "5cb0d80a",
   "metadata": {
    "scrolled": false
   },
   "outputs": [],
   "source": [
    "indices = [i for i in range(len(feature_names)) if ((f_selector.get_support())[i] == True)]"
   ]
  },
  {
   "cell_type": "code",
   "execution_count": 164,
   "id": "1013fcb9",
   "metadata": {},
   "outputs": [],
   "source": [
    "mul_selector = SelectPercentile(mutual_info_regression, percentile = 80)\n",
    "mul_selector.fit_transform(X, y)\n",
    "mul_sel_50per = list(np.array(X.columns)[(mul_selector.get_support())])"
   ]
  },
  {
   "cell_type": "code",
   "execution_count": 166,
   "id": "4b6ed770",
   "metadata": {},
   "outputs": [
    {
     "data": {
      "text/plain": [
       "[\"O'HareNoise\", 'Garage2Size', 'MultiPropertyIndicator']"
      ]
     },
     "execution_count": 166,
     "metadata": {},
     "output_type": "execute_result"
    }
   ],
   "source": [
    "list(set(mul_sel_50per) - set(f_sel_50per))"
   ]
  },
  {
   "cell_type": "code",
   "execution_count": 122,
   "id": "709015cd",
   "metadata": {},
   "outputs": [],
   "source": [
    "from sklearn.feature_selection import f_regression, SelectKBest, SelectPercentile, mutual_info_regression"
   ]
  },
  {
   "cell_type": "code",
   "execution_count": 153,
   "id": "0253b774",
   "metadata": {},
   "outputs": [],
   "source": [
    "from sklearn.feature_selection import f_regression, SelectKBest, SelectPercentile, mutual_info_regression\n",
    "f_selector = SelectPercentile(f_regression, percentile = 50)\n",
    "f_selector.fit_transform(df_original_prep, y)\n",
    "f_sel_50per = list(np.array(feature_names)[(f_selector.get_support())])"
   ]
  },
  {
   "cell_type": "code",
   "execution_count": 140,
   "id": "52f76348",
   "metadata": {},
   "outputs": [],
   "source": [
    "mul_selector = SelectPercentile(mutual_info_regression, percentile = 33)\n",
    "mul_selector.fit_transform(df_original_prep, y)\n",
    "mul_sel_50per = list(np.array(feature_names)[(mul_selector.get_support())])"
   ]
  },
  {
   "cell_type": "code",
   "execution_count": 154,
   "id": "899cf3a2",
   "metadata": {},
   "outputs": [
    {
     "data": {
      "text/plain": [
       "array([1101.39698827,  448.7293027 ,  106.39327302, ...,  196.98830593,\n",
       "         86.9406719 ,   73.99283728])"
      ]
     },
     "execution_count": 154,
     "metadata": {},
     "output_type": "execute_result"
    }
   ],
   "source": [
    "f_selector.scores_"
   ]
  },
  {
   "cell_type": "code",
   "execution_count": 147,
   "id": "0dec9f40",
   "metadata": {},
   "outputs": [],
   "source": [
    "?SelectPercentile"
   ]
  },
  {
   "cell_type": "code",
   "execution_count": null,
   "id": "ca8c457b",
   "metadata": {},
   "outputs": [],
   "source": []
  }
 ],
 "metadata": {
  "kernelspec": {
   "display_name": "Python 3 (ipykernel)",
   "language": "python",
   "name": "python3"
  },
  "language_info": {
   "codemirror_mode": {
    "name": "ipython",
    "version": 3
   },
   "file_extension": ".py",
   "mimetype": "text/x-python",
   "name": "python",
   "nbconvert_exporter": "python",
   "pygments_lexer": "ipython3",
   "version": "3.9.7"
  }
 },
 "nbformat": 4,
 "nbformat_minor": 5
}
